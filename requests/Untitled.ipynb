{
 "cells": [
  {
   "cell_type": "code",
   "execution_count": 1,
   "id": "28321e28-08fe-45da-8dc3-42b3ec4a5dbc",
   "metadata": {},
   "outputs": [],
   "source": [
    "import pandas as pd\n",
    "import requests as rq\n",
    "import json"
   ]
  },
  {
   "cell_type": "code",
   "execution_count": 2,
   "id": "a8e89b2a-20b0-401e-a6e1-34f58f4cc69f",
   "metadata": {},
   "outputs": [],
   "source": [
    "_endpoint = 'http://gerdov.com/mike-db/api/hfg2DB/events'"
   ]
  },
  {
   "cell_type": "code",
   "execution_count": 3,
   "id": "678a63e5-eccf-4649-a1cd-5c0b44007c9d",
   "metadata": {},
   "outputs": [],
   "source": [
    "_secret = 'HFG23cr3tK3y'"
   ]
  },
  {
   "cell_type": "code",
   "execution_count": 4,
   "id": "bad9f986-ee7f-40b0-8002-8f9087f88e3a",
   "metadata": {},
   "outputs": [],
   "source": [
    "headers = {'API_KEY': _secret, \"Content-Type\":\"application/json\"}"
   ]
  },
  {
   "cell_type": "code",
   "execution_count": 5,
   "id": "a24d442c-4fdd-46a2-b75a-466edc6f066c",
   "metadata": {},
   "outputs": [],
   "source": [
    "_json = [{\n",
    "    \"startDate\":\"2023-01-30\"\n",
    "    ,\"title\":\"brass_birmingham\"\n",
    "    ,\"atten|dees\":[0,1,2,3]\n",
    "}\n",
    ",{\n",
    "    \"startDate\":\"2023-01-23\"\n",
    "    ,\"title\":\"pax_rennaissance\"\n",
    "    ,\"attendees\":[0,1,2,3]\n",
    "}\n",
    "]"
   ]
  },
  {
   "cell_type": "code",
   "execution_count": 6,
   "id": "d28341eb-c75a-43f0-97f3-367c62e214d1",
   "metadata": {},
   "outputs": [
    {
     "data": {
      "text/plain": [
       "'[{\"startDate\":\"2023-01-30\",\"title\":\"brass_birmingham\",\"atten|dees\":[0,1,2,3],\"id\":2181420931601860},{\"startDate\":\"2023-01-23\",\"title\":\"pax_rennaissance\",\"attendees\":[0,1,2,3],\"id\":2181419482367882},{\"startDate\":\"2023-01-31\",\"title\":\"brass_02\",\"attendees\":[0,1,2,3],\"id\":2181465285550320},{\"startDate\":\"\",\"title\":\"\",\"attendees\":[0,1,2,3],\"id\":2184149669188676},{\"startDate\":\"\",\"title\":\"\",\"attendees\":[0,1,2,3],\"id\":2184153487159931},{\"startDate\":\"\",\"title\":\"\",\"attendees\":[0,1,2,3],\"id\":2184276367260906},{\"startDate\":\"\",\"title\":\"\",\"attendees\":[0,1,2,3],\"id\":2184281148988551},{\"startDate\":\"\",\"title\":\"\",\"attendees\":[0,1,2,3],\"id\":2184610236155811},{\"startDate\":\"2023-01-05\",\"title\":\"brass_o4\",\"attendees\":[0,1,2,3],\"id\":2184689934977167},{\"startDate\":\"\",\"title\":\"\",\"attendees\":[0,1,2,3],\"id\":2184698357701344},{\"startDate\":\"\",\"title\":\"\",\"attendees\":[0,1,2,3],\"id\":2184736194122216},{\"startDate\":\"2023-01-13\",\"title\":\"test\",\"attendees\":[0,1,2,3],\"id\":2202598942837661},{\"startDate\":\"\",\"title\":\"\",\"attendees\":[0,1,2,3],\"id\":2204649973662946},{\"startDate\":\"2023-01-18\",\"title\":\"test_05\",\"attendees\":[0,1,2,3],\"id\":2262638738430155},{\"startDate\":\"\",\"title\":\"\",\"attendees\":[0,1,2,3],\"id\":2263094844717657},{\"startDate\":\"\",\"title\":\"\",\"attendees\":[0,1,2,3],\"id\":2263102947764289},{\"startDate\":\"\",\"title\":\"\",\"attendees\":[0,1,2,3],\"id\":2263148611540275},{\"startDate\":\"\",\"title\":\"\",\"attendees\":[0,1,2,3],\"id\":2264425157976100},{\"startDate\":\"\",\"title\":\"\",\"attendees\":[0,1,2,3],\"id\":2264610167551122},{\"startDate\":\"\",\"title\":\"\",\"attendees\":[0,1,2,3],\"id\":2264614663327860},{\"startDate\":\"\",\"title\":\"\",\"attendees\":[0,1,2,3],\"id\":2265419265859227}]'"
      ]
     },
     "execution_count": 6,
     "metadata": {},
     "output_type": "execute_result"
    }
   ],
   "source": [
    "j = rq.get(_endpoint, headers=headers)\n",
    "j.text"
   ]
  },
  {
   "cell_type": "code",
   "execution_count": 7,
   "id": "69a916c4-e575-4c3d-b1ab-72dfc59bbac9",
   "metadata": {},
   "outputs": [],
   "source": [
    "events = {\n",
    "    \"events\":'{\\\n",
    "        \"event_202212281947\":{\\\n",
    "            \"title\":\"Maiden Voyage\"\\\n",
    "            ,\"date\":\"2022-12-29\"\\\n",
    "            ,\"games\":{\\\n",
    "                \"game_1\": {\\\n",
    "                    \"id\":\"game_brass_birmingham\"\\\n",
    "                    ,\"name\":\"brass_birmingham\"\\\n",
    "                }\\\n",
    "            }\\\n",
    "            ,\"attendees\":{\\\n",
    "                \"player_1\":{\\\n",
    "                    \"id\": \"cam123\"\\\n",
    "                    ,\"name\":\"Carlo-Antonio Marin\"\\\n",
    "                }\\\n",
    "                ,\"player_2\":{\\\n",
    "                    \"id\": \"mike456\"\\\n",
    "                    ,\"name\":\"Carlo-Antonio Marin\"\\\n",
    "                }\\\n",
    "                ,\"player_3\":{\\\n",
    "                    \"id\": \"stephan789\"\\\n",
    "                    ,\"name\":\"Carlo-Antonio Marin\"\\\n",
    "                }\\\n",
    "                ,\"player_4\":{\\\n",
    "                    \"id\": \"ian0ab\"\\\n",
    "                    ,\"name\":\"Carlo-Antonio Marin\"\\\n",
    "                }\\\n",
    "            }\\\n",
    "        }\\\n",
    "    }'\n",
    "}"
   ]
  },
  {
   "cell_type": "code",
   "execution_count": 8,
   "id": "0c2cbde6-f6da-463b-b413-743760740a29",
   "metadata": {},
   "outputs": [
    {
     "data": {
      "text/plain": [
       "{'events': '{        \"event_202212281947\":{            \"title\":\"Maiden Voyage\"            ,\"date\":\"2022-12-29\"            ,\"games\":{                \"game_1\": {                    \"id\":\"game_brass_birmingham\"                    ,\"name\":\"brass_birmingham\"                }            }            ,\"attendees\":{                \"player_1\":{                    \"id\": \"cam123\"                    ,\"name\":\"Carlo-Antonio Marin\"                }                ,\"player_2\":{                    \"id\": \"mike456\"                    ,\"name\":\"Carlo-Antonio Marin\"                }                ,\"player_3\":{                    \"id\": \"stephan789\"                    ,\"name\":\"Carlo-Antonio Marin\"                }                ,\"player_4\":{                    \"id\": \"ian0ab\"                    ,\"name\":\"Carlo-Antonio Marin\"                }            }        }    }'}"
      ]
     },
     "execution_count": 8,
     "metadata": {},
     "output_type": "execute_result"
    }
   ],
   "source": [
    "events"
   ]
  },
  {
   "cell_type": "code",
   "execution_count": 9,
   "id": "cd07a0f4-7e88-4189-a271-0393fa9448c8",
   "metadata": {},
   "outputs": [],
   "source": [
    "j = rq.put(_endpoint, headers=headers, json=_json)"
   ]
  },
  {
   "cell_type": "code",
   "execution_count": 10,
   "id": "6563a530-014d-4140-b441-e95de209c752",
   "metadata": {},
   "outputs": [
    {
     "data": {
      "text/plain": [
       "<Response [200]>"
      ]
     },
     "execution_count": 10,
     "metadata": {},
     "output_type": "execute_result"
    }
   ],
   "source": [
    "j"
   ]
  },
  {
   "cell_type": "code",
   "execution_count": 11,
   "id": "ba841632-6983-4838-a982-ac11d7a13510",
   "metadata": {},
   "outputs": [],
   "source": [
    "j = rq.get(_endpoint, headers=headers)"
   ]
  },
  {
   "cell_type": "code",
   "execution_count": 12,
   "id": "bb62cceb-a827-4204-b1f5-947c44aa8543",
   "metadata": {},
   "outputs": [
    {
     "data": {
      "text/plain": [
       "[{'startDate': '2023-01-30',\n",
       "  'title': 'brass_birmingham',\n",
       "  'atten|dees': [0, 1, 2, 3],\n",
       "  'id': 2271048765876461},\n",
       " {'startDate': '2023-01-23',\n",
       "  'title': 'pax_rennaissance',\n",
       "  'attendees': [0, 1, 2, 3],\n",
       "  'id': 2271047316642834}]"
      ]
     },
     "execution_count": 12,
     "metadata": {},
     "output_type": "execute_result"
    }
   ],
   "source": [
    "j.json()"
   ]
  },
  {
   "cell_type": "code",
   "execution_count": 13,
   "id": "3eb3a30a-6d0d-4fcf-8cce-d60aa38ca732",
   "metadata": {},
   "outputs": [],
   "source": [
    "j  = rq.get(_endpoint +f'/{2271048765876461}', headers=headers)"
   ]
  },
  {
   "cell_type": "code",
   "execution_count": 14,
   "id": "621ab430-74db-4b14-90f8-a312d7144e2b",
   "metadata": {},
   "outputs": [
    {
     "data": {
      "text/plain": [
       "{'startDate': '2023-01-30',\n",
       " 'title': 'brass_birmingham',\n",
       " 'atten|dees': [0, 1, 2, 3],\n",
       " 'id': 2271048765876461}"
      ]
     },
     "execution_count": 14,
     "metadata": {},
     "output_type": "execute_result"
    }
   ],
   "source": [
    "j.json()"
   ]
  },
  {
   "cell_type": "code",
   "execution_count": null,
   "id": "3401ac29-3968-4ed3-b954-b81de458caa5",
   "metadata": {},
   "outputs": [],
   "source": []
  }
 ],
 "metadata": {
  "kernelspec": {
   "display_name": "Python 3 (ipykernel)",
   "language": "python",
   "name": "python3"
  },
  "language_info": {
   "codemirror_mode": {
    "name": "ipython",
    "version": 3
   },
   "file_extension": ".py",
   "mimetype": "text/x-python",
   "name": "python",
   "nbconvert_exporter": "python",
   "pygments_lexer": "ipython3",
   "version": "3.8.13"
  }
 },
 "nbformat": 4,
 "nbformat_minor": 5
}
