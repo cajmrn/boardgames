{
 "cells": [
  {
   "cell_type": "code",
   "execution_count": 3,
   "id": "28321e28-08fe-45da-8dc3-42b3ec4a5dbc",
   "metadata": {},
   "outputs": [],
   "source": [
    "import pandas as pd\n",
    "import requests as rq"
   ]
  },
  {
   "cell_type": "code",
   "execution_count": 4,
   "id": "a8e89b2a-20b0-401e-a6e1-34f58f4cc69f",
   "metadata": {},
   "outputs": [],
   "source": [
    "_endpoint = 'http://gerdov.com/mike-db/api/hfg2DB/'"
   ]
  },
  {
   "cell_type": "code",
   "execution_count": 5,
   "id": "678a63e5-eccf-4649-a1cd-5c0b44007c9d",
   "metadata": {},
   "outputs": [],
   "source": [
    "_secret = 'HFG23cr3tK3y'"
   ]
  },
  {
   "cell_type": "code",
   "execution_count": 10,
   "id": "69a916c4-e575-4c3d-b1ab-72dfc59bbac9",
   "metadata": {},
   "outputs": [],
   "source": [
    "events = {\n",
    "    \"event_202212281947\":{\n",
    "        \"title\":\"Maiden Voyage\"\n",
    "        ,\"date\":\"2022-12-29\"\n",
    "        ,\"games\":{\n",
    "            \"game_1\": {\n",
    "                \"id\":\"game_brass_birmingham\"\n",
    "                ,\"name\":\"brass_birmingham\"\n",
    "            }\n",
    "        }\n",
    "        ,\"attendees\":{\n",
    "            \"player_1\":{\n",
    "                \"id\": \"cam123\"\n",
    "                ,\"name\":\"Carlo-Antonio Marin\"\n",
    "            }\n",
    "            ,\"player_2\":{\n",
    "                \"id\": \"mike456\"\n",
    "                ,\"name\":\"Carlo-Antonio Marin\"\n",
    "            }\n",
    "            ,\"player_3\":{\n",
    "                \"id\": \"stephan789\"\n",
    "                ,\"name\":\"Carlo-Antonio Marin\"\n",
    "            }\n",
    "            ,\"player_4\":{\n",
    "                \"id\": \"ian0ab\"\n",
    "                ,\"name\":\"Carlo-Antonio Marin\"\n",
    "            }\n",
    "        }\n",
    "    }\n",
    "}"
   ]
  },
  {
   "cell_type": "code",
   "execution_count": 11,
   "id": "0c2cbde6-f6da-463b-b413-743760740a29",
   "metadata": {},
   "outputs": [
    {
     "data": {
      "text/plain": [
       "{'event_202212281947': {'date': '2022-12-29',\n",
       "  'games': {'game_1': {'id': 'game_brass_birmingham',\n",
       "    'name': 'brass_birmingham'}},\n",
       "  'attendees': {'player_1': {'id': 'cam123', 'name': 'Carlo-Antonio Marin'},\n",
       "   'player_2': {'id': 'mike456', 'name': 'Carlo-Antonio Marin'},\n",
       "   'player_3': {'id': 'stephan789', 'name': 'Carlo-Antonio Marin'},\n",
       "   'player_4': {'id': 'ian0ab', 'name': 'Carlo-Antonio Marin'}}}}"
      ]
     },
     "execution_count": 11,
     "metadata": {},
     "output_type": "execute_result"
    }
   ],
   "source": [
    "events"
   ]
  },
  {
   "cell_type": "code",
   "execution_count": null,
   "id": "6563a530-014d-4140-b441-e95de209c752",
   "metadata": {},
   "outputs": [],
   "source": []
  }
 ],
 "metadata": {
  "kernelspec": {
   "display_name": "Python 3 (ipykernel)",
   "language": "python",
   "name": "python3"
  },
  "language_info": {
   "codemirror_mode": {
    "name": "ipython",
    "version": 3
   },
   "file_extension": ".py",
   "mimetype": "text/x-python",
   "name": "python",
   "nbconvert_exporter": "python",
   "pygments_lexer": "ipython3",
   "version": "3.8.13"
  }
 },
 "nbformat": 4,
 "nbformat_minor": 5
}
