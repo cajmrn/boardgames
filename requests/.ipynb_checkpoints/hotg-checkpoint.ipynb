{
 "cells": [
  {
   "cell_type": "code",
   "execution_count": 1,
   "id": "28321e28-08fe-45da-8dc3-42b3ec4a5dbc",
   "metadata": {},
   "outputs": [],
   "source": [
    "import pandas as pd\n",
    "import requests as rq\n",
    "import json"
   ]
  },
  {
   "cell_type": "code",
   "execution_count": 2,
   "id": "12041603-da68-4541-9595-b0f77e2fbdeb",
   "metadata": {},
   "outputs": [],
   "source": [
    "_base_endpoint = 'http://gerdov.com/mike-db/api/hfg2DB/'"
   ]
  },
  {
   "cell_type": "code",
   "execution_count": 3,
   "id": "a8e89b2a-20b0-401e-a6e1-34f58f4cc69f",
   "metadata": {},
   "outputs": [],
   "source": [
    "_events_endpoint = 'http://gerdov.com/mike-db/api/hfg2DB/events'"
   ]
  },
  {
   "cell_type": "code",
   "execution_count": 4,
   "id": "88ad9b6e-0707-4279-a746-fcb509fa0be1",
   "metadata": {},
   "outputs": [],
   "source": [
    "_commissioners_endpoint = 'http://gerdov.com/mike-db/api/hfg2DB/commissioners'"
   ]
  },
  {
   "cell_type": "code",
   "execution_count": 5,
   "id": "b810c746-b615-42ad-911c-c47e91e427bb",
   "metadata": {},
   "outputs": [],
   "source": [
    "_venues_endpoint = 'http://gerdov.com/mike-db/api/hfg2DB/venues'"
   ]
  },
  {
   "cell_type": "code",
   "execution_count": 6,
   "id": "af0e94c1-5aca-46bd-97a8-346621d5fe26",
   "metadata": {},
   "outputs": [],
   "source": [
    "_ranks_endpoint = 'http://gerdov.com/mike-db/api/hfg2DB/ranks'"
   ]
  },
  {
   "cell_type": "code",
   "execution_count": 7,
   "id": "14b72968-6f0e-4e9f-bac7-c331f4b64833",
   "metadata": {
    "tags": []
   },
   "outputs": [],
   "source": [
    "_experiences_endpoint = 'http://gerdov.com/mike-db/api/hfg2DB/experiences'"
   ]
  },
  {
   "cell_type": "code",
   "execution_count": 8,
   "id": "678a63e5-eccf-4649-a1cd-5c0b44007c9d",
   "metadata": {},
   "outputs": [],
   "source": [
    "_secret = 'HFG23cr3tK3y'"
   ]
  },
  {
   "cell_type": "code",
   "execution_count": 9,
   "id": "bad9f986-ee7f-40b0-8002-8f9087f88e3a",
   "metadata": {},
   "outputs": [],
   "source": [
    "headers = {'API_KEY': _secret, \"Content-Type\":\"application/json\"}"
   ]
  },
  {
   "cell_type": "code",
   "execution_count": 10,
   "id": "d28341eb-c75a-43f0-97f3-367c62e214d1",
   "metadata": {},
   "outputs": [
    {
     "data": {
      "text/plain": [
       "'[{\"startDate\":\"2023-01-06\",\"title\":\"Bring the Brass\",\"game\":\"bgg_game_id\",\"attendees\":[0,1,2,3],\"tgc_weight\":0.0,\"tgc_rating\":0.0,\"tgc_experiences\":[0,1,2,3],\"exp\":{\"base\":150,\"win\":50,\"loss\":25},\"winner\":0,\"venue\":0,\"id\":42090923324673},{\"startDate\":\"2023-01-13\",\"title\":\"Call home with Smartphone\",\"game\":\"bgg_game_id\",\"attendees\":[0,1,2,3],\"tgc_weight\":0.0,\"tgc_rating\":0.0,\"tgc_experiences\":[0,1,2,3],\"exp\":{\"base\":90,\"win\":35,\"loss\":0},\"winner\":0,\"venue\":0,\"id\":42091820863673},{\"startDate\":\"2023-01-20\",\"title\":\"infection: Small Pax\",\"game\":\"bgg_game_id\",\"attendees\":[0,1,2,3],\"tgc_weight\":0.0,\"tgc_rating\":0.0,\"tgc_experiences\":[0,1,2,3],\"exp\":{\"base\":100,\"win\":50,\"loss\":25},\"winner\":0,\"venue\":0,\"id\":42088491094452},{\"startDate\":\"2023-01-27\",\"title\":\"Relax with a little glass of Vinhos\",\"game\":\"bgg_game_id\",\"attendees\":[0,1,2,3],\"tgc_weight\":0.0,\"tgc_rating\":0.0,\"tgc_experiences\":[0,1,2,3],\"exp\":{\"base\":125,\"win\":50,\"loss\":25},\"winner\":0,\"venue\":0,\"id\":42088390549054},{\"startDate\":\"2023-01-05\",\"attendees\":[],\"tgc_weight\":\"\",\"tgc_rating\":\"\",\"tgc_experiences\":[],\"exp\":{\"base\":\"100\",\"win\":\"10\",\"loss\":\"23\"},\"winner\":0,\"venue\":\"\",\"id\":466405809562630},{\"startDate\":\"2023-01-04\",\"title\":\"test if this would work\",\"attendees\":[],\"tgc_weight\":\"\",\"tgc_rating\":\"\",\"tgc_experiences\":[],\"exp\":{\"base\":\"11\",\"win\":\"22\",\"loss\":\"22\"},\"winner\":0,\"venue\":\"\",\"id\":466489102077221},{\"startDate\":\"2023-01-27\",\"game\":\"\",\"attendees\":[],\"tgc_weight\":\"\",\"tgc_rating\":\"\",\"tgc_experiences\":[],\"exp\":{\"base\":0,\"win\":0,\"loss\":0},\"winner\":0,\"venue\":\"\",\"id\":466989345478805},{\"startDate\":\"2023-01-24\",\"title\":\"this is a new event\",\"game\":\"Brass Birmingham\",\"attendees\":[],\"tgc_weight\":\"\",\"tgc_rating\":\"\",\"tgc_experiences\":[],\"exp\":{\"base\":\"122\",\"win\":\"11\",\"loss\":\"1\"},\"winner\":0,\"venue\":\"Russian Basement\",\"id\":467546271665100},{\"startDate\":\"2023-01-25\",\"title\":\"another test\",\"game\":\"Brass Birmingham\",\"attendees\":[],\"tgc_weight\":\"\",\"tgc_rating\":\"\",\"tgc_experiences\":[],\"exp\":{\"base\":\"100\",\"win\":\"33\",\"loss\":\"33\"},\"winner\":0,\"venue\":\"Maison Cam\",\"id\":467586849033543},{\"startDate\":\"2023-01-28\",\"game\":\"\",\"attendees\":[],\"tgc_weight\":\"\",\"tgc_rating\":\"\",\"tgc_experiences\":[],\"exp\":{\"base\":0,\"win\":0,\"loss\":0},\"winner\":0,\"venue\":\"\",\"id\":467716928200296},{\"startDate\":\"2023-01-21\",\"game\":\"\",\"attendees\":[],\"tgc_weight\":\"\",\"tgc_rating\":\"\",\"tgc_experiences\":[],\"exp\":{\"base\":0,\"win\":0,\"loss\":0},\"winner\":0,\"venue\":\"\",\"id\":467719942010055},{\"startDate\":\"2023-01-14\",\"game\":\"\",\"attendees\":[],\"tgc_weight\":\"\",\"tgc_rating\":\"\",\"tgc_experiences\":[],\"exp\":{\"base\":0,\"win\":0,\"loss\":0},\"winner\":0,\"venue\":\"\",\"id\":467722308653790},{\"startDate\":\"2023-01-11\",\"game\":\"\",\"attendees\":[],\"tgc_weight\":\"\",\"tgc_rating\":\"\",\"tgc_experiences\":[],\"exp\":{\"base\":0,\"win\":0,\"loss\":0},\"winner\":0,\"venue\":\"\",\"id\":467802007222751},{\"startDate\":\"2023-01-17\",\"game\":\"Brass Birmingham\",\"attendees\":[],\"tgc_weight\":\"\",\"tgc_rating\":\"\",\"tgc_experiences\":[],\"exp\":{\"base\":\"111\",\"win\":\"11\",\"loss\":\"1\"},\"winner\":0,\"venue\":\"Maison Cam\",\"id\":467829586845002},{\"startDate\":\"2023-01-26\",\"game\":\"\",\"attendees\":[],\"tgc_weight\":\"\",\"tgc_rating\":\"\",\"tgc_experiences\":[],\"exp\":{\"base\":0,\"win\":0,\"loss\":0},\"winner\":0,\"venue\":\"\",\"id\":468016047379916},{\"startDate\":\"2023-01-19\",\"title\":\"Why is this happening\",\"game\":\"Brass Birmingham\",\"attendees\":[],\"tgc_weight\":\"\",\"tgc_rating\":\"\",\"tgc_experiences\":[],\"exp\":{\"base\":\"111\",\"win\":\"11\",\"loss\":\"11\"},\"winner\":0,\"venue\":\"Maison Cam\",\"id\":468097314651424},{\"startDate\":\"2023-02-03\",\"title\":\"what the hell\",\"game\":\"Brass Birmingham\",\"attendees\":[],\"tgc_weight\":\"\",\"tgc_rating\":\"\",\"tgc_experiences\":[],\"exp\":{\"base\":\"111\",\"win\":\"11\",\"loss\":\"11\"},\"winner\":0,\"venue\":\"Russian Basement\",\"id\":468170226632276},{\"startDate\":\"2023-01-10\",\"game\":\"\",\"attendees\":[],\"tgc_weight\":\"\",\"tgc_rating\":\"\",\"tgc_experiences\":[],\"exp\":{\"base\":0,\"win\":0,\"loss\":0},\"winner\":0,\"venue\":\"\",\"id\":468257488865197},{\"startDate\":\"2023-01-13\",\"game\":\"\",\"attendees\":[],\"tgc_weight\":\"\",\"tgc_rating\":\"\",\"tgc_experiences\":[],\"exp\":{\"base\":0,\"win\":0,\"loss\":0},\"winner\":0,\"venue\":\"\",\"id\":468277752361216},{\"startDate\":\"2023-01-20\",\"game\":\"\",\"attendees\":[],\"tgc_weight\":\"\",\"tgc_rating\":\"\",\"tgc_experiences\":[],\"exp\":{\"base\":0,\"win\":0,\"loss\":0},\"winner\":0,\"venue\":\"\",\"id\":468282323504895},{\"startDate\":\"2023-01-02\",\"game\":\"\",\"attendees\":[],\"tgc_weight\":\"\",\"tgc_rating\":\"\",\"tgc_experiences\":[],\"exp\":{\"base\":0,\"win\":0,\"loss\":0},\"winner\":0,\"venue\":\"\",\"id\":468504624699077},{\"startDate\":\"2023-01-03\",\"title\":\"this is a test 100\",\"game\":\"Brass Birmingham\",\"attendees\":[],\"tgc_weight\":\"\",\"tgc_rating\":\"\",\"tgc_experiences\":[],\"exp\":{\"base\":\"111\",\"win\":\"11\",\"loss\":\"11\"},\"winner\":0,\"venue\":\"Maison Cam\",\"id\":470358808549595},{\"startDate\":\"2023-01-03\",\"game\":\"\",\"attendees\":[],\"tgc_weight\":\"\",\"tgc_rating\":\"\",\"tgc_experiences\":[],\"exp\":{\"base\":0,\"win\":0,\"loss\":0},\"winner\":0,\"venue\":\"\",\"id\":470455163826834},{\"startDate\":\"2023-01-03\",\"game\":\"\",\"attendees\":[],\"tgc_weight\":\"\",\"tgc_rating\":\"\",\"tgc_experiences\":[],\"exp\":{\"base\":0,\"win\":0,\"loss\":0},\"winner\":0,\"venue\":\"\",\"id\":470941020719314},{\"startDate\":\"2023-01-18\",\"game\":\"\",\"attendees\":[],\"tgc_weight\":\"\",\"tgc_rating\":\"\",\"tgc_experiences\":[],\"exp\":{\"base\":0,\"win\":0,\"loss\":0},\"winner\":0,\"venue\":\"\",\"id\":506465808777999},{\"startDate\":\"2023-02-02\",\"game\":\"\",\"attendees\":[],\"tgc_weight\":\"\",\"tgc_rating\":\"\",\"tgc_experiences\":[],\"exp\":{\"base\":0,\"win\":0,\"loss\":0},\"winner\":0,\"venue\":\"\",\"id\":509024275294221},{\"startDate\":\"2023-01-05\",\"game\":\"\",\"attendees\":[],\"tgc_weight\":\"\",\"tgc_rating\":\"\",\"tgc_experiences\":[],\"exp\":{\"base\":0,\"win\":0,\"loss\":0},\"winner\":0,\"venue\":\"\",\"id\":509033223739044},{\"startDate\":\"2023-01-07\",\"game\":\"\",\"attendees\":[],\"tgc_weight\":\"\",\"tgc_rating\":\"\",\"tgc_experiences\":[],\"exp\":{\"base\":0,\"win\":0,\"loss\":0},\"winner\":0,\"venue\":\"\",\"id\":509039336734506},{\"startDate\":\"2023-01-07\",\"game\":\"\",\"attendees\":[],\"tgc_weight\":\"\",\"tgc_rating\":\"\",\"tgc_experiences\":[],\"exp\":{\"base\":0,\"win\":0,\"loss\":0},\"winner\":0,\"venue\":\"\",\"id\":509058446141373},{\"startDate\":\"2023-01-07\",\"game\":\"\",\"attendees\":[],\"tgc_weight\":\"\",\"tgc_rating\":\"\",\"tgc_experiences\":[],\"exp\":{\"base\":0,\"win\":0,\"loss\":0},\"winner\":0,\"venue\":\"\",\"id\":509065353468334},{\"startDate\":\"2023-01-12\",\"game\":\"\",\"attendees\":[],\"tgc_weight\":\"\",\"tgc_rating\":\"\",\"tgc_experiences\":[],\"exp\":{\"base\":0,\"win\":0,\"loss\":0},\"winner\":0,\"venue\":\"\",\"id\":509076594650512},{\"startDate\":\"2023-01-14\",\"game\":\"\",\"attendees\":[],\"tgc_weight\":\"\",\"tgc_rating\":\"\",\"tgc_experiences\":[],\"exp\":{\"base\":0,\"win\":0,\"loss\":0},\"winner\":0,\"venue\":\"\",\"id\":509082438445820},{\"startDate\":\"2023-02-01\",\"game\":\"\",\"attendees\":[],\"tgc_weight\":\"\",\"tgc_rating\":\"\",\"tgc_experiences\":[],\"exp\":{\"base\":0,\"win\":0,\"loss\":0},\"winner\":0,\"venue\":\"\",\"id\":509087733969202},{\"startDate\":\"2023-01-23\",\"game\":\"\",\"attendees\":[],\"tgc_weight\":\"\",\"tgc_rating\":\"\",\"tgc_experiences\":[],\"exp\":{\"base\":0,\"win\":0,\"loss\":0},\"winner\":0,\"venue\":\"\",\"id\":509091115095455},{\"startDate\":\"2023-01-29\",\"game\":\"\",\"attendees\":[],\"tgc_weight\":\"\",\"tgc_rating\":\"\",\"tgc_experiences\":[],\"exp\":{\"base\":0,\"win\":0,\"loss\":0},\"winner\":0,\"venue\":\"\",\"id\":509095250092192},{\"startDate\":\"2023-01-30\",\"title\":\"this is a test to make sure that it will actuall add the event\",\"game\":\"Brass Birmingham\",\"attendees\":[],\"tgc_weight\":\"\",\"tgc_rating\":\"\",\"tgc_experiences\":[],\"exp\":{\"base\":\"1111\",\"win\":\"111\",\"loss\":\"111\"},\"winner\":0,\"venue\":\"Maison Cam\",\"id\":509124640884909},{\"startDate\":\"2023-01-09\",\"game\":\"\",\"attendees\":[],\"tgc_weight\":\"\",\"tgc_rating\":\"\",\"tgc_experiences\":[],\"exp\":{\"base\":0,\"win\":0,\"loss\":0},\"winner\":0,\"venue\":\"\",\"id\":509147089077671},{\"startDate\":\"2023-01-15\",\"game\":\"\",\"attendees\":[],\"tgc_weight\":\"\",\"tgc_rating\":\"\",\"tgc_experiences\":[],\"exp\":{\"base\":0,\"win\":0,\"loss\":0},\"winner\":0,\"venue\":\"\",\"id\":509152058812583},{\"startDate\":\"2023-01-01\",\"game\":\"\",\"attendees\":[],\"tgc_weight\":\"\",\"tgc_rating\":\"\",\"tgc_experiences\":[],\"exp\":{\"base\":0,\"win\":0,\"loss\":0},\"winner\":0,\"venue\":\"\",\"id\":509155182913118},{\"startDate\":\"2023-01-04\",\"title\":\"new event\",\"game\":\"\",\"attendees\":[],\"tgc_weight\":\"\",\"tgc_rating\":\"\",\"tgc_experiences\":[],\"exp\":{\"base\":0,\"win\":0,\"loss\":0},\"winner\":0,\"venue\":\"\",\"id\":509363185236359},{\"startDate\":\"2023-01-04\",\"title\":\"new event\",\"game\":\"\",\"attendees\":[],\"tgc_weight\":\"\",\"tgc_rating\":\"\",\"tgc_experiences\":[],\"exp\":{\"base\":0,\"win\":0,\"loss\":0},\"winner\":0,\"venue\":\"\",\"id\":509817496492441},{\"startDate\":\"2023-01-04\",\"title\":\"new event\",\"game\":\"\",\"attendees\":[],\"tgc_weight\":\"\",\"tgc_rating\":\"\",\"tgc_experiences\":[],\"exp\":{\"base\":0,\"win\":0,\"loss\":0},\"winner\":0,\"venue\":\"\",\"id\":509818649292485},{\"startDate\":\"2023-01-04\",\"title\":\"new event\",\"game\":\"\",\"attendees\":[],\"tgc_weight\":\"\",\"tgc_rating\":\"\",\"tgc_experiences\":[],\"exp\":{\"base\":0,\"win\":0,\"loss\":0},\"winner\":0,\"venue\":\"\",\"id\":509819539260986},{\"startDate\":\"2023-01-04\",\"title\":\"new event\",\"game\":\"\",\"attendees\":[],\"tgc_weight\":\"\",\"tgc_rating\":\"\",\"tgc_experiences\":[],\"exp\":{\"base\":0,\"win\":0,\"loss\":0},\"winner\":0,\"venue\":\"\",\"id\":509820200649515},{\"startDate\":\"2023-01-04\",\"title\":\"new event\",\"game\":\"\",\"attendees\":[],\"tgc_weight\":\"\",\"tgc_rating\":\"\",\"tgc_experiences\":[],\"exp\":{\"base\":0,\"win\":0,\"loss\":0},\"winner\":0,\"venue\":\"\",\"id\":509820353486060},{\"startDate\":\"2023-01-04\",\"title\":\"new event\",\"game\":\"\",\"attendees\":[],\"tgc_weight\":\"\",\"tgc_rating\":\"\",\"tgc_experiences\":[],\"exp\":{\"base\":0,\"win\":0,\"loss\":0},\"winner\":0,\"venue\":\"\",\"id\":509820513889245},{\"startDate\":\"2023-01-04\",\"title\":\"new event\",\"game\":\"\",\"attendees\":[],\"tgc_weight\":\"\",\"tgc_rating\":\"\",\"tgc_experiences\":[],\"exp\":{\"base\":0,\"win\":0,\"loss\":0},\"winner\":0,\"venue\":\"\",\"id\":509820666657391},{\"startDate\":\"2023-01-04\",\"title\":\"new event\",\"game\":\"\",\"attendees\":[],\"tgc_weight\":\"\",\"tgc_rating\":\"\",\"tgc_experiences\":[],\"exp\":{\"base\":0,\"win\":0,\"loss\":0},\"winner\":0,\"venue\":\"\",\"id\":509820819106460},{\"startDate\":\"2023-01-12\",\"game\":\"\",\"attendees\":[],\"tgc_weight\":\"\",\"tgc_rating\":\"\",\"tgc_experiences\":[],\"exp\":{\"base\":0,\"win\":0,\"loss\":0},\"winner\":0,\"venue\":\"\",\"id\":509924140135768},{\"startDate\":\"2023-01-01\",\"game\":\"\",\"attendees\":[],\"tgc_weight\":\"\",\"tgc_rating\":\"\",\"tgc_experiences\":[],\"exp\":{\"base\":0,\"win\":0,\"loss\":0},\"winner\":0,\"venue\":\"\",\"id\":510101882906894},{\"startDate\":\"2023-01-01\",\"game\":\"\",\"attendees\":[],\"tgc_weight\":\"\",\"tgc_rating\":\"\",\"tgc_experiences\":[],\"exp\":{\"base\":0,\"win\":0,\"loss\":0},\"winner\":0,\"venue\":\"\",\"id\":510103836666746},{\"startDate\":\"2023-01-01\",\"game\":\"\",\"attendees\":[],\"tgc_weight\":\"\",\"tgc_rating\":\"\",\"tgc_experiences\":[],\"exp\":{\"base\":0,\"win\":0,\"loss\":0},\"winner\":0,\"venue\":\"\",\"id\":510105318426918},{\"startDate\":\"2023-01-02\",\"game\":\"\",\"attendees\":[],\"tgc_weight\":\"\",\"tgc_rating\":\"\",\"tgc_experiences\":[],\"exp\":{\"base\":0,\"win\":0,\"loss\":0},\"winner\":0,\"venue\":\"\",\"id\":510128751632037},{\"startDate\":\"2023-02-04\",\"game\":\"\",\"attendees\":[],\"tgc_weight\":\"\",\"tgc_rating\":\"\",\"tgc_experiences\":[],\"exp\":{\"base\":0,\"win\":0,\"loss\":0},\"winner\":0,\"venue\":\"\",\"id\":510204641290894},{\"startDate\":\"2023-02-04\",\"game\":\"\",\"attendees\":[],\"tgc_weight\":\"\",\"tgc_rating\":\"\",\"tgc_experiences\":[],\"exp\":{\"base\":0,\"win\":0,\"loss\":0},\"winner\":0,\"venue\":\"\",\"id\":510230452321937},{\"startDate\":\"2023-01-31\",\"game\":\"\",\"attendees\":[],\"tgc_weight\":\"\",\"tgc_rating\":\"\",\"tgc_experiences\":[],\"exp\":{\"base\":0,\"win\":0,\"loss\":0},\"winner\":0,\"venue\":\"\",\"id\":510261308527707},{\"startDate\":\"2023-01-31\",\"game\":\"\",\"attendees\":[],\"tgc_weight\":\"\",\"tgc_rating\":\"\",\"tgc_experiences\":[],\"exp\":{\"base\":0,\"win\":0,\"loss\":0},\"winner\":0,\"venue\":\"\",\"id\":510380329423397},{\"startDate\":\"2023-01-31\",\"game\":\"\",\"attendees\":[],\"tgc_weight\":\"\",\"tgc_rating\":\"\",\"tgc_experiences\":[],\"exp\":{\"base\":0,\"win\":0,\"loss\":0},\"winner\":0,\"venue\":\"\",\"id\":510394961291828},{\"startDate\":\"2023-01-21\",\"game\":\"\",\"attendees\":[],\"tgc_weight\":\"\",\"tgc_rating\":\"\",\"tgc_experiences\":[],\"exp\":{\"base\":0,\"win\":0,\"loss\":0},\"winner\":0,\"venue\":\"\",\"id\":510539149021829},{\"startDate\":\"2023-01-21\",\"game\":\"\",\"attendees\":[],\"tgc_weight\":\"\",\"tgc_rating\":\"\",\"tgc_experiences\":[],\"exp\":{\"base\":0,\"win\":0,\"loss\":0},\"winner\":0,\"venue\":\"\",\"id\":510656254956211},{\"startDate\":\"2023-01-21\",\"game\":\"\",\"attendees\":[],\"tgc_weight\":\"\",\"tgc_rating\":\"\",\"tgc_experiences\":[],\"exp\":{\"base\":0,\"win\":0,\"loss\":0},\"winner\":0,\"venue\":\"\",\"id\":510673967466307},{\"startDate\":\"2023-01-21\",\"game\":\"\",\"attendees\":[],\"tgc_weight\":\"\",\"tgc_rating\":\"\",\"tgc_experiences\":[],\"exp\":{\"base\":0,\"win\":0,\"loss\":0},\"winner\":0,\"venue\":\"\",\"id\":510682574636675},{\"startDate\":\"2023-02-14\",\"game\":\"\",\"attendees\":[],\"tgc_weight\":\"\",\"tgc_rating\":\"\",\"tgc_experiences\":[],\"exp\":{\"base\":0,\"win\":0,\"loss\":0},\"winner\":0,\"venue\":\"\",\"id\":510707761417209},{\"startDate\":\"2023-02-17\",\"game\":\"\",\"attendees\":[],\"tgc_weight\":\"\",\"tgc_rating\":\"\",\"tgc_experiences\":[],\"exp\":{\"base\":0,\"win\":0,\"loss\":0},\"winner\":0,\"venue\":\"\",\"id\":510729630387702},{\"startDate\":\"2023-02-17\",\"game\":\"\",\"attendees\":[],\"tgc_weight\":\"\",\"tgc_rating\":\"\",\"tgc_experiences\":[],\"exp\":{\"base\":0,\"win\":0,\"loss\":0},\"winner\":0,\"venue\":\"\",\"id\":510795537711562},{\"startDate\":\"2023-02-18\",\"game\":\"\",\"attendees\":[],\"tgc_weight\":\"\",\"tgc_rating\":\"\",\"tgc_experiences\":[],\"exp\":{\"base\":0,\"win\":0,\"loss\":0},\"winner\":0,\"venue\":\"\",\"id\":511334859293291},{\"startDate\":\"2023-02-08\",\"game\":\"\",\"attendees\":[],\"tgc_weight\":\"\",\"tgc_rating\":\"\",\"tgc_experiences\":[],\"exp\":{\"base\":0,\"win\":0,\"loss\":0},\"winner\":0,\"venue\":\"\",\"id\":511590876605801},{\"startDate\":\"2023-02-13\",\"game\":\"\",\"attendees\":[],\"tgc_weight\":\"\",\"tgc_rating\":\"\",\"tgc_experiences\":[],\"exp\":{\"base\":0,\"win\":0,\"loss\":0},\"winner\":0,\"venue\":\"\",\"id\":511609193621012},{\"startDate\":\"2023-02-09\",\"game\":\"\",\"attendees\":[],\"tgc_weight\":\"\",\"tgc_rating\":\"\",\"tgc_experiences\":[],\"exp\":{\"base\":0,\"win\":0,\"loss\":0},\"winner\":0,\"venue\":\"\",\"id\":511664810978746},{\"startDate\":\"2023-02-09\",\"game\":\"\",\"attendees\":[],\"tgc_weight\":\"\",\"tgc_rating\":\"\",\"tgc_experiences\":[],\"exp\":{\"base\":0,\"win\":0,\"loss\":0},\"winner\":0,\"venue\":\"\",\"id\":511666212270741},{\"startDate\":\"2023-02-09\",\"game\":\"\",\"attendees\":[],\"tgc_weight\":\"\",\"tgc_rating\":\"\",\"tgc_experiences\":[],\"exp\":{\"base\":0,\"win\":0,\"loss\":0},\"winner\":0,\"venue\":\"\",\"id\":511667151811211},{\"startDate\":\"2023-02-15\",\"game\":\"\",\"attendees\":[],\"tgc_weight\":\"\",\"tgc_rating\":\"\",\"tgc_experiences\":[],\"exp\":{\"base\":0,\"win\":0,\"loss\":0},\"winner\":0,\"venue\":\"\",\"id\":511724326753757},{\"startDate\":\"2023-02-15\",\"game\":\"\",\"attendees\":[],\"tgc_weight\":\"\",\"tgc_rating\":\"\",\"tgc_experiences\":[],\"exp\":{\"base\":0,\"win\":0,\"loss\":0},\"winner\":0,\"venue\":\"\",\"id\":511815857171584},{\"startDate\":\"2023-02-15\",\"game\":\"\",\"attendees\":[],\"tgc_weight\":\"\",\"tgc_rating\":\"\",\"tgc_experiences\":[],\"exp\":{\"base\":0,\"win\":0,\"loss\":0},\"winner\":0,\"venue\":\"\",\"id\":511839326261239},{\"startDate\":\"2023-02-15\",\"game\":\"\",\"attendees\":[],\"tgc_weight\":\"\",\"tgc_rating\":\"\",\"tgc_experiences\":[],\"exp\":{\"base\":0,\"win\":0,\"loss\":0},\"winner\":0,\"venue\":\"\",\"id\":511840782642551},{\"startDate\":\"2023-02-15\",\"game\":\"\",\"attendees\":[],\"tgc_weight\":\"\",\"tgc_rating\":\"\",\"tgc_experiences\":[],\"exp\":{\"base\":0,\"win\":0,\"loss\":0},\"winner\":0,\"venue\":\"\",\"id\":511841893829236},{\"startDate\":\"2023-02-15\",\"game\":\"\",\"attendees\":[],\"tgc_weight\":\"\",\"tgc_rating\":\"\",\"tgc_experiences\":[],\"exp\":{\"base\":0,\"win\":0,\"loss\":0},\"winner\":0,\"venue\":\"\",\"id\":511842907629433},{\"startDate\":\"2023-02-15\",\"game\":\"\",\"attendees\":[],\"tgc_weight\":\"\",\"tgc_rating\":\"\",\"tgc_experiences\":[],\"exp\":{\"base\":0,\"win\":0,\"loss\":0},\"winner\":0,\"venue\":\"\",\"id\":511851928586488},{\"startDate\":\"2023-02-01\",\"game\":\"\",\"attendees\":[],\"tgc_weight\":\"\",\"tgc_rating\":\"\",\"tgc_experiences\":[],\"exp\":{\"base\":0,\"win\":0,\"loss\":0},\"winner\":0,\"venue\":\"\",\"id\":512064024624089},{\"startDate\":\"2023-01-10\",\"game\":\"\",\"attendees\":[],\"tgc_weight\":\"\",\"tgc_rating\":\"\",\"tgc_experiences\":[],\"exp\":{\"base\":0,\"win\":0,\"loss\":0},\"winner\":0,\"venue\":\"\",\"id\":512191753369025},{\"startDate\":\"2023-01-26\",\"game\":\"\",\"attendees\":[],\"tgc_weight\":\"\",\"tgc_rating\":\"\",\"tgc_experiences\":[],\"exp\":{\"base\":0,\"win\":0,\"loss\":0},\"winner\":0,\"venue\":\"\",\"id\":512345695789576},{\"startDate\":\"2023-01-18\",\"game\":\"\",\"attendees\":[],\"tgc_weight\":\"\",\"tgc_rating\":\"\",\"tgc_experiences\":[],\"exp\":{\"base\":0,\"win\":0,\"loss\":0},\"winner\":0,\"venue\":\"\",\"id\":512521135450361},{\"startDate\":\"2023-02-03\",\"game\":\"\",\"attendees\":[],\"tgc_weight\":\"\",\"tgc_rating\":\"\",\"tgc_experiences\":[],\"exp\":{\"base\":0,\"win\":0,\"loss\":0},\"winner\":0,\"venue\":\"\",\"id\":512531734427280},{\"startDate\":\"2023-02-03\",\"game\":\"\",\"attendees\":[],\"tgc_weight\":\"\",\"tgc_rating\":\"\",\"tgc_experiences\":[],\"exp\":{\"base\":0,\"win\":0,\"loss\":0},\"winner\":0,\"venue\":\"\",\"id\":512557287695014},{\"startDate\":\"2023-01-11\",\"game\":\"\",\"attendees\":[],\"tgc_weight\":\"\",\"tgc_rating\":\"\",\"tgc_experiences\":[],\"exp\":{\"base\":0,\"win\":0,\"loss\":0},\"winner\":0,\"venue\":\"\",\"id\":513315798891188},{\"startDate\":\"2023-01-25\",\"game\":\"\",\"attendees\":[],\"tgc_weight\":\"\",\"tgc_rating\":\"\",\"tgc_experiences\":[],\"exp\":{\"base\":0,\"win\":0,\"loss\":0},\"winner\":0,\"venue\":\"\",\"id\":513728472982788},{\"startDate\":\"2023-01-25\",\"game\":\"\",\"attendees\":[],\"tgc_weight\":\"\",\"tgc_rating\":\"\",\"tgc_experiences\":[],\"exp\":{\"base\":0,\"win\":0,\"loss\":0},\"winner\":0,\"venue\":\"\",\"id\":513730370148931},{\"startDate\":\"2023-01-08\",\"game\":\"\",\"attendees\":[],\"tgc_weight\":\"\",\"tgc_rating\":\"\",\"tgc_experiences\":[],\"exp\":{\"base\":0,\"win\":0,\"loss\":0},\"winner\":0,\"venue\":\"\",\"id\":513772965106091},{\"startDate\":\"2023-01-08\",\"game\":\"\",\"attendees\":[],\"tgc_weight\":\"\",\"tgc_rating\":\"\",\"tgc_experiences\":[],\"exp\":{\"base\":0,\"win\":0,\"loss\":0},\"winner\":0,\"venue\":\"\",\"id\":513929429664310},{\"startDate\":\"2023-01-08\",\"game\":\"\",\"attendees\":[],\"tgc_weight\":\"\",\"tgc_rating\":\"\",\"tgc_experiences\":[],\"exp\":{\"base\":0,\"win\":0,\"loss\":0},\"winner\":0,\"venue\":\"\",\"id\":513949516772620},{\"startDate\":\"2023-01-08\",\"game\":\"\",\"attendees\":[],\"tgc_weight\":\"\",\"tgc_rating\":\"\",\"tgc_experiences\":[],\"exp\":{\"base\":0,\"win\":0,\"loss\":0},\"winner\":0,\"venue\":\"\",\"id\":513957344171194},{\"startDate\":\"2023-01-16\",\"game\":\"\",\"attendees\":[],\"tgc_weight\":\"\",\"tgc_rating\":\"\",\"tgc_experiences\":[],\"exp\":{\"base\":0,\"win\":0,\"loss\":0},\"winner\":0,\"venue\":\"\",\"id\":514161677029882},{\"startDate\":\"2023-01-28\",\"game\":\"\",\"attendees\":[],\"tgc_weight\":\"\",\"tgc_rating\":\"\",\"tgc_experiences\":[],\"exp\":{\"base\":0,\"win\":0,\"loss\":0},\"winner\":0,\"venue\":\"\",\"id\":514285446852070},{\"startDate\":\"2023-01-28\",\"game\":\"\",\"attendees\":[],\"tgc_weight\":\"\",\"tgc_rating\":\"\",\"tgc_experiences\":[],\"exp\":{\"base\":0,\"win\":0,\"loss\":0},\"winner\":0,\"venue\":\"\",\"id\":514411204151184},{\"startDate\":\"2023-01-16\",\"game\":\"\",\"attendees\":[],\"tgc_weight\":\"\",\"tgc_rating\":\"\",\"tgc_experiences\":[],\"exp\":{\"base\":0,\"win\":0,\"loss\":0},\"winner\":0,\"venue\":\"\",\"id\":514477400056731},{\"startDate\":\"2023-01-09\",\"game\":\"\",\"attendees\":[],\"tgc_weight\":\"\",\"tgc_rating\":\"\",\"tgc_experiences\":[],\"exp\":{\"base\":0,\"win\":0,\"loss\":0},\"winner\":0,\"venue\":\"\",\"id\":514610532970579},{\"startDate\":\"2023-02-02\",\"game\":\"\",\"attendees\":[],\"tgc_weight\":\"\",\"tgc_rating\":\"\",\"tgc_experiences\":[],\"exp\":{\"base\":0,\"win\":0,\"loss\":0},\"winner\":0,\"venue\":\"\",\"id\":514781862782619},{\"startDate\":\"2023-01-17\",\"game\":\"\",\"attendees\":[],\"tgc_weight\":\"\",\"tgc_rating\":\"\",\"tgc_experiences\":[],\"exp\":{\"base\":0,\"win\":0,\"loss\":0},\"winner\":0,\"venue\":\"\",\"id\":514938496472122},{\"startDate\":\"2023-01-10\",\"game\":\"\",\"attendees\":[],\"tgc_weight\":\"\",\"tgc_rating\":\"\",\"tgc_experiences\":[],\"exp\":{\"base\":0,\"win\":0,\"loss\":0},\"winner\":0,\"venue\":\"\",\"id\":515579107240781},{\"startDate\":\"2023-02-04\",\"game\":\"\",\"attendees\":[],\"tgc_weight\":\"\",\"tgc_rating\":\"\",\"tgc_experiences\":[],\"exp\":{\"base\":0,\"win\":0,\"loss\":0},\"winner\":0,\"venue\":\"\",\"id\":516035396222895},{\"startDate\":\"2023-01-22\",\"game\":\"\",\"attendees\":[],\"tgc_weight\":\"\",\"tgc_rating\":\"\",\"tgc_experiences\":[],\"exp\":{\"base\":0,\"win\":0,\"loss\":0},\"winner\":0,\"venue\":\"\",\"id\":516199732319603},{\"startDate\":\"2023-01-15\",\"game\":\"\",\"attendees\":[],\"tgc_weight\":\"\",\"tgc_rating\":\"\",\"tgc_experiences\":[],\"exp\":{\"base\":0,\"win\":0,\"loss\":0},\"winner\":0,\"venue\":\"\",\"id\":516434485002158},{\"startDate\":\"2023-01-05\",\"game\":\"\",\"attendees\":[],\"tgc_weight\":\"\",\"tgc_rating\":\"\",\"tgc_experiences\":[],\"exp\":{\"base\":0,\"win\":0,\"loss\":0},\"winner\":0,\"venue\":\"\",\"id\":516601863277612},{\"startDate\":\"2023-01-06\",\"game\":\"\",\"attendees\":[],\"tgc_weight\":\"\",\"tgc_rating\":\"\",\"tgc_experiences\":[],\"exp\":{\"base\":0,\"win\":0,\"loss\":0},\"winner\":0,\"venue\":\"\",\"id\":516691501466617},{\"startDate\":\"2023-01-06\",\"game\":\"\",\"attendees\":[],\"tgc_weight\":\"\",\"tgc_rating\":\"\",\"tgc_experiences\":[],\"exp\":{\"base\":0,\"win\":0,\"loss\":0},\"winner\":0,\"venue\":\"\",\"id\":516765769236543},{\"startDate\":\"2023-01-11\",\"game\":\"\",\"attendees\":[],\"tgc_weight\":\"\",\"tgc_rating\":\"\",\"tgc_experiences\":[],\"exp\":{\"base\":0,\"win\":0,\"loss\":0},\"winner\":0,\"venue\":\"\",\"id\":516979804509725},{\"startDate\":\"2023-01-23\",\"game\":\"\",\"attendees\":[],\"tgc_weight\":\"\",\"tgc_rating\":\"\",\"tgc_experiences\":[],\"exp\":{\"base\":0,\"win\":0,\"loss\":0},\"winner\":0,\"venue\":\"\",\"id\":517066193611449},{\"startDate\":\"2023-01-12\",\"game\":\"\",\"attendees\":[],\"tgc_weight\":\"\",\"tgc_rating\":\"\",\"tgc_experiences\":[],\"exp\":{\"base\":0,\"win\":0,\"loss\":0},\"winner\":0,\"venue\":\"\",\"id\":517855761086692},{\"startDate\":\"2023-01-27\",\"game\":\"\",\"attendees\":[],\"tgc_weight\":\"\",\"tgc_rating\":\"\",\"tgc_experiences\":[],\"exp\":{\"base\":0,\"win\":0,\"loss\":0},\"winner\":0,\"venue\":\"\",\"id\":518318884737928},{\"startDate\":\"2023-01-07\",\"game\":\"\",\"attendees\":[],\"tgc_weight\":\"\",\"tgc_rating\":\"\",\"tgc_experiences\":[],\"exp\":{\"base\":0,\"win\":0,\"loss\":0},\"winner\":0,\"venue\":\"\",\"id\":518343502642425},{\"startDate\":\"2023-01-02\",\"game\":\"\",\"attendees\":[],\"tgc_weight\":\"\",\"tgc_rating\":\"\",\"tgc_experiences\":[],\"exp\":{\"base\":0,\"win\":0,\"loss\":0},\"winner\":0,\"venue\":\"\",\"id\":518363395847742},{\"startDate\":\"2023-01-02\",\"game\":\"\",\"attendees\":[],\"tgc_weight\":\"\",\"tgc_rating\":\"\",\"tgc_experiences\":[],\"exp\":{\"base\":0,\"win\":0,\"loss\":0},\"winner\":0,\"venue\":\"\",\"id\":518365653059330},{\"startDate\":\"2023-01-22\",\"title\":\"mytest\",\"game\":\"\",\"attendees\":[],\"tgc_weight\":\"\",\"tgc_rating\":\"\",\"tgc_experiences\":[],\"exp\":{\"base\":0,\"win\":0,\"loss\":0},\"winner\":0,\"venue\":\"\",\"id\":518405313610838},{\"startDate\":\"2023-01-22\",\"title\":\"mytest\",\"game\":\"\",\"attendees\":[],\"tgc_weight\":\"\",\"tgc_rating\":\"\",\"tgc_experiences\":[],\"exp\":{\"base\":0,\"win\":0,\"loss\":0},\"winner\":0,\"venue\":\"\",\"id\":518440651973662},{\"startDate\":\"2023-01-24\",\"game\":\"\",\"attendees\":[],\"tgc_weight\":\"\",\"tgc_rating\":\"\",\"tgc_experiences\":[],\"exp\":{\"base\":0,\"win\":0,\"loss\":0},\"winner\":0,\"venue\":\"\",\"id\":518498428033335},{\"startDate\":\"2023-01-24\",\"game\":\"\",\"attendees\":[],\"tgc_weight\":\"\",\"tgc_rating\":\"\",\"tgc_experiences\":[],\"exp\":{\"base\":0,\"win\":0,\"loss\":0},\"winner\":0,\"venue\":\"\",\"id\":518521429376096},{\"startDate\":\"2023-01-19\",\"game\":\"\",\"attendees\":[],\"tgc_weight\":\"\",\"tgc_rating\":\"\",\"tgc_experiences\":[],\"exp\":{\"base\":0,\"win\":0,\"loss\":0},\"winner\":0,\"venue\":\"\",\"id\":518549863124813},{\"startDate\":\"2023-01-19\",\"game\":\"\",\"attendees\":[],\"tgc_weight\":\"\",\"tgc_rating\":\"\",\"tgc_experiences\":[],\"exp\":{\"base\":0,\"win\":0,\"loss\":0},\"winner\":0,\"venue\":\"\",\"id\":518582132665203},{\"startDate\":\"2023-01-30\",\"game\":\"\",\"attendees\":[],\"tgc_weight\":\"\",\"tgc_rating\":\"\",\"tgc_experiences\":[],\"exp\":{\"base\":0,\"win\":0,\"loss\":0},\"winner\":0,\"venue\":\"\",\"id\":518593170713156},{\"startDate\":\"2023-01-09\",\"game\":\"\",\"attendees\":[],\"tgc_weight\":\"\",\"tgc_rating\":\"\",\"tgc_experiences\":[],\"exp\":{\"base\":0,\"win\":0,\"loss\":0},\"winner\":0,\"venue\":\"\",\"id\":532636468647370},{\"startDate\":\"2023-01-14\",\"game\":\"\",\"attendees\":[],\"tgc_weight\":\"\",\"tgc_rating\":\"\",\"tgc_experiences\":[],\"exp\":{\"base\":0,\"win\":0,\"loss\":0},\"winner\":0,\"venue\":\"\",\"id\":533940977763510},{\"startDate\":\"2023-02-02\",\"game\":\"\",\"attendees\":[],\"tgc_weight\":\"\",\"tgc_rating\":\"\",\"tgc_experiences\":[],\"exp\":{\"base\":0,\"win\":0,\"loss\":0},\"winner\":0,\"venue\":\"\",\"id\":534830134239205},{\"startDate\":\"2023-02-01\",\"game\":\"\",\"attendees\":[],\"tgc_weight\":\"\",\"tgc_rating\":\"\",\"tgc_experiences\":[],\"exp\":{\"base\":0,\"win\":0,\"loss\":0},\"winner\":0,\"venue\":\"\",\"id\":534974833723482},{\"startDate\":\"2023-01-29\",\"game\":\"\",\"attendees\":[],\"tgc_weight\":\"\",\"tgc_rating\":\"\",\"tgc_experiences\":[],\"exp\":{\"base\":0,\"win\":0,\"loss\":0},\"winner\":0,\"venue\":\"\",\"id\":535004316036039},{\"startDate\":\"2023-01-17\",\"game\":\"\",\"attendees\":[],\"tgc_weight\":\"\",\"tgc_rating\":\"\",\"tgc_experiences\":[],\"exp\":{\"base\":0,\"win\":0,\"loss\":0},\"winner\":0,\"venue\":\"\",\"id\":535284090860445},{\"startDate\":\"2023-01-13\",\"game\":\"\",\"attendees\":[],\"tgc_weight\":\"\",\"tgc_rating\":\"\",\"tgc_experiences\":[],\"exp\":{\"base\":0,\"win\":0,\"loss\":0},\"winner\":0,\"venue\":\"\",\"id\":535345415844519},{\"startDate\":\"2023-01-26\",\"title\":\"event to pass\",\"game\":\"\",\"attendees\":[],\"tgc_weight\":\"\",\"tgc_rating\":\"\",\"tgc_experiences\":[],\"exp\":{\"base\":0,\"win\":0,\"loss\":0},\"winner\":0,\"venue\":\"\",\"id\":543464698319178},{\"startDate\":\"2023-01-30\",\"title\":\"testing additions\",\"game\":\"\",\"attendees\":[],\"tgc_weight\":\"\",\"tgc_rating\":\"\",\"tgc_experiences\":[],\"exp\":{\"base\":0,\"win\":0,\"loss\":0},\"winner\":0,\"venue\":\"\",\"id\":543727849904021},{\"startDate\":\"2023-01-18\",\"title\":\"checking to see if I will be able to pass this event.\",\"game\":\"\",\"attendees\":[],\"tgc_weight\":\"\",\"tgc_rating\":\"\",\"tgc_experiences\":[],\"exp\":{\"base\":0,\"win\":0,\"loss\":0},\"winner\":0,\"venue\":\"\",\"id\":544365898549043},{\"startDate\":\"2023-01-03\",\"game\":\"\",\"attendees\":[],\"tgc_weight\":\"\",\"tgc_rating\":\"\",\"tgc_experiences\":[],\"exp\":{\"base\":0,\"win\":0,\"loss\":0},\"winner\":0,\"venue\":\"\",\"id\":544580259702874},{\"startDate\":\"2023-01-15\",\"game\":\"\",\"attendees\":[],\"tgc_weight\":\"\",\"tgc_rating\":\"\",\"tgc_experiences\":[],\"exp\":{\"base\":0,\"win\":0,\"loss\":0},\"winner\":0,\"venue\":\"\",\"id\":544644580173981},{\"startDate\":\"2023-01-23\",\"title\":\"test to see\",\"game\":\"\",\"attendees\":[],\"tgc_weight\":\"\",\"tgc_rating\":\"\",\"tgc_experiences\":[],\"exp\":{\"base\":0,\"win\":0,\"loss\":0},\"winner\":0,\"venue\":\"\",\"id\":544662915242097},{\"startDate\":\"2023-01-29\",\"game\":\"\",\"attendees\":[],\"tgc_weight\":\"\",\"tgc_rating\":\"\",\"tgc_experiences\":[],\"exp\":{\"base\":0,\"win\":0,\"loss\":0},\"winner\":0,\"venue\":\"\",\"id\":544767551332722},{\"startDate\":\"2023-02-08\",\"title\":\"eventtopass\",\"game\":\"\",\"attendees\":[],\"tgc_weight\":\"\",\"tgc_rating\":\"\",\"tgc_experiences\":[],\"exp\":{\"base\":0,\"win\":0,\"loss\":0},\"winner\":0,\"venue\":\"\",\"id\":544999060964748},{\"startDate\":\"2023-01-16\",\"title\":\"I have a game saved.\",\"game\":\"Brass Birmingham\",\"attendees\":[],\"tgc_weight\":\"\",\"tgc_rating\":\"\",\"tgc_experiences\":[],\"exp\":{\"base\":\"111\",\"win\":\"11\",\"loss\":\"11\"},\"winner\":0,\"venue\":\"Maison Cam\",\"id\":546061339276295}]'"
      ]
     },
     "execution_count": 10,
     "metadata": {},
     "output_type": "execute_result"
    }
   ],
   "source": [
    "j = rq.get(_events_endpoint, headers=headers)\n",
    "j.text"
   ]
  },
  {
   "cell_type": "markdown",
   "id": "7a061327-7b1a-43e6-ac12-a61d36261b77",
   "metadata": {
    "tags": []
   },
   "source": [
    "# Events"
   ]
  },
  {
   "cell_type": "code",
   "execution_count": 18,
   "id": "04d53770-a8ae-4959-9eda-361f08febba4",
   "metadata": {},
   "outputs": [],
   "source": [
    "events =[{\n",
    "            \"startDate\":\"2023-01-06\"\n",
    "            ,\"title\":\"Bring the Brass\"\n",
    "            ,\"game\":\"bgg_game_id\"\n",
    "            ,\"attendees\":[0,1,2,3]\n",
    "            ,\"tgc_weight\":0.00\n",
    "            ,\"tgc_rating\":0.00\n",
    "            ,\"tgc_experiences\":[0,1,2,3]\n",
    "            ,\"exp\": {\n",
    "                \"base\":150\n",
    "                ,\"win\":50\n",
    "                ,\"loss\":25\n",
    "            }\n",
    "            ,\"winner\":0\n",
    "            ,\"venue\":0\n",
    "        }\n",
    "        ,{\n",
    "            \"startDate\":\"2023-01-13\"\n",
    "            ,\"title\":\"Call home with Smartphone\"\n",
    "            ,\"game\":\"bgg_game_id\"\n",
    "            ,\"attendees\":[0,1,2,3]\n",
    "            ,\"tgc_weight\":0.00\n",
    "            ,\"tgc_rating\":0.00\n",
    "            ,\"tgc_experiences\":[0,1,2,3]\n",
    "            ,\"exp\": {\n",
    "                \"base\":90\n",
    "                ,\"win\":35\n",
    "                ,\"loss\":0\n",
    "            }\n",
    "            ,\"winner\":0\n",
    "            ,\"venue\":0\n",
    "        }\n",
    "        ,{\n",
    "            \"startDate\":\"2023-01-20\"\n",
    "            ,\"title\":\"infection: Small Pax\"\n",
    "            ,\"game\":\"bgg_game_id\"\n",
    "            ,\"attendees\":[0,1,2,3]\n",
    "            ,\"tgc_weight\":0.00\n",
    "            ,\"tgc_rating\":0.00\n",
    "            ,\"tgc_experiences\":[0,1,2,3]\n",
    "            ,\"exp\": {\n",
    "                \"base\":100\n",
    "                ,\"win\":50\n",
    "                ,\"loss\":25\n",
    "            }\n",
    "            ,\"winner\":0\n",
    "            ,\"venue\":0\n",
    "        }\n",
    "        ,{\n",
    "            \"startDate\":\"2023-01-27\"\n",
    "            ,\"title\":\"Relax with a little glass of Vinhos\"\n",
    "            ,\"game\":\"bgg_game_id\"\n",
    "            ,\"attendees\":[0,1,2,3]\n",
    "            ,\"tgc_weight\":0.00\n",
    "            ,\"tgc_rating\":0.00\n",
    "            ,\"tgc_experiences\":[0,1,2,3]\n",
    "            ,\"exp\": {\n",
    "                \"base\":125\n",
    "                ,\"win\":50\n",
    "                ,\"loss\":25\n",
    "            }\n",
    "            ,\"winner\":0\n",
    "            ,\"venue\":0\n",
    "        }]"
   ]
  },
  {
   "cell_type": "code",
   "execution_count": 19,
   "id": "cd07a0f4-7e88-4189-a271-0393fa9448c8",
   "metadata": {},
   "outputs": [],
   "source": [
    "j = rq.put(_events_endpoint, headers=headers, json=events)"
   ]
  },
  {
   "cell_type": "code",
   "execution_count": 20,
   "id": "07707e7b-6869-4959-af19-7154485b268f",
   "metadata": {},
   "outputs": [
    {
     "data": {
      "text/plain": [
       "'[{\"startDate\":\"2023-01-06\",\"title\":\"Bring the Brass\",\"game\":\"bgg_game_id\",\"attendees\":[0,1,2,3],\"tgc_weight\":0.0,\"tgc_rating\":0.0,\"tgc_experiences\":[0,1,2,3],\"exp\":{\"base\":150,\"win\":50,\"loss\":25},\"winner\":0,\"venue\":0,\"id\":596168412359498},{\"startDate\":\"2023-01-13\",\"title\":\"Call home with Smartphone\",\"game\":\"bgg_game_id\",\"attendees\":[0,1,2,3],\"tgc_weight\":0.0,\"tgc_rating\":0.0,\"tgc_experiences\":[0,1,2,3],\"exp\":{\"base\":90,\"win\":35,\"loss\":0},\"winner\":0,\"venue\":0,\"id\":596169309902396},{\"startDate\":\"2023-01-20\",\"title\":\"infection: Small Pax\",\"game\":\"bgg_game_id\",\"attendees\":[0,1,2,3],\"tgc_weight\":0.0,\"tgc_rating\":0.0,\"tgc_experiences\":[0,1,2,3],\"exp\":{\"base\":100,\"win\":50,\"loss\":25},\"winner\":0,\"venue\":0,\"id\":596165980128669},{\"startDate\":\"2023-01-27\",\"title\":\"Relax with a little glass of Vinhos\",\"game\":\"bgg_game_id\",\"attendees\":[0,1,2,3],\"tgc_weight\":0.0,\"tgc_rating\":0.0,\"tgc_experiences\":[0,1,2,3],\"exp\":{\"base\":125,\"win\":50,\"loss\":25},\"winner\":0,\"venue\":0,\"id\":596165879581732}]'"
      ]
     },
     "execution_count": 20,
     "metadata": {},
     "output_type": "execute_result"
    }
   ],
   "source": [
    "j = rq.get(_events_endpoint, headers=headers)\n",
    "j.text"
   ]
  },
  {
   "cell_type": "markdown",
   "id": "59f69896-ce46-42b8-a054-a4ebe2b07eda",
   "metadata": {},
   "source": [
    "# Commissioners"
   ]
  },
  {
   "cell_type": "code",
   "execution_count": 14,
   "id": "854c88f6-1423-41c1-b91a-b63331488fed",
   "metadata": {},
   "outputs": [],
   "source": [
    "commissioners =[{\n",
    "        \"name\":\"Carlheinz\"\n",
    "        ,\"joined\":\"2022-11-26\"\n",
    "        ,\"level\": 0\n",
    "        ,\"exp\": 10\n",
    "        ,\"venue\":0\n",
    "        ,\"rank\": 0\n",
    "        ,\"wins\":0\n",
    "        ,\"note\": \"loves scotch.\"\n",
    "        ,\"thumbnail\":\"https://upload.wikimedia.org/wikipedia/commons/thumb/9/98/OOjs_UI_icon_userAvatar.svg/480px-OOjs_UI_icon_userAvatar.svg.png\"\n",
    "    }\n",
    "        ,{\n",
    "        \"name\":\"Maggus\"\n",
    "        ,\"joined\":\"2022-11-26\"\n",
    "        ,\"level\": 0\n",
    "        ,\"exp\": 50\n",
    "        ,\"venue\":1\n",
    "        ,\"rank\": 0\n",
    "        ,\"wins\":0\n",
    "        ,\"note\": \"loves cat photos.\"\n",
    "        ,\"thumbnail\":\"https://upload.wikimedia.org/wikipedia/commons/thumb/9/9c/OOjs_UI_icon_userAvatar-invert.svg/480px-OOjs_UI_icon_userAvatar-invert.svg.png\"\n",
    "    }\n",
    "        ,{\n",
    "        \"name\":\"OriginalPotatoChip\"\n",
    "        ,\"joined\":\"2022-11-26\"\n",
    "        ,\"level\": 0\n",
    "        ,\"exp\": 60\n",
    "        ,\"venue\":2\n",
    "        ,\"rank\": 0\n",
    "        ,\"wins\":0\n",
    "        ,\"note\": \"Will strip for Pringles.\"\n",
    "        ,\"thumbnail\":\"https://upload.wikimedia.org/wikipedia/commons/thumb/5/57/OOjs_UI_icon_userAvatar-progressive.svg/480px-OOjs_UI_icon_userAvatar-progressive.svg.png\"\n",
    "    }\n",
    "        ,{\n",
    "        \"name\":\"Reebs\"\n",
    "        ,\"joined\":\"2022-11-26\"\n",
    "        ,\"level\": 0\n",
    "        ,\"exp\": 70\n",
    "        ,\"venue\":3\n",
    "        ,\"rank\": 0\n",
    "        ,\"wins\":0\n",
    "        ,\"note\": \"hates cat photos.\"\n",
    "        ,\"thumbnail\":\"https://upload.wikimedia.org/wikipedia/commons/thumb/f/f9/OOjs_UI_icon_userAvatar-constructive.svg/480px-OOjs_UI_icon_userAvatar-constructive.svg.png\"\n",
    "    }]\n",
    "    "
   ]
  },
  {
   "cell_type": "code",
   "execution_count": 15,
   "id": "d5d8989a-a022-45dd-aedb-a3d014de7793",
   "metadata": {},
   "outputs": [
    {
     "data": {
      "text/plain": [
       "<Response [200]>"
      ]
     },
     "execution_count": 15,
     "metadata": {},
     "output_type": "execute_result"
    }
   ],
   "source": [
    "j = rq.put(_commissioners_endpoint, headers=headers, json=commissioners)\n",
    "j"
   ]
  },
  {
   "cell_type": "code",
   "execution_count": 17,
   "id": "741d7f65-33e8-4719-b6c5-de5c16054736",
   "metadata": {},
   "outputs": [
    {
     "data": {
      "text/plain": [
       "'[{\"name\":\"Carlheinz\",\"joined\":\"2022-11-26\",\"level\":0,\"exp\":10,\"venue\":0,\"rank\":0,\"wins\":0,\"note\":\"loves scotch.\",\"thumbnail\":\"https://upload.wikimedia.org/wikipedia/commons/thumb/9/98/OOjs_UI_icon_userAvatar.svg/480px-OOjs_UI_icon_userAvatar.svg.png\",\"id\":596121520725219},{\"name\":\"Maggus\",\"joined\":\"2022-11-26\",\"level\":0,\"exp\":50,\"venue\":1,\"rank\":0,\"wins\":0,\"note\":\"loves cat photos.\",\"thumbnail\":\"https://upload.wikimedia.org/wikipedia/commons/thumb/9/9c/OOjs_UI_icon_userAvatar-invert.svg/480px-OOjs_UI_icon_userAvatar-invert.svg.png\",\"id\":596123852683360},{\"name\":\"OriginalPotatoChip\",\"joined\":\"2022-11-26\",\"level\":0,\"exp\":60,\"venue\":2,\"rank\":0,\"wins\":0,\"note\":\"Will strip for Pringles.\",\"thumbnail\":\"https://upload.wikimedia.org/wikipedia/commons/thumb/5/57/OOjs_UI_icon_userAvatar-progressive.svg/480px-OOjs_UI_icon_userAvatar-progressive.svg.png\",\"id\":596122117594107},{\"name\":\"Reebs\",\"joined\":\"2022-11-26\",\"level\":0,\"exp\":70,\"venue\":3,\"rank\":0,\"wins\":0,\"note\":\"hates cat photos.\",\"thumbnail\":\"https://upload.wikimedia.org/wikipedia/commons/thumb/f/f9/OOjs_UI_icon_userAvatar-constructive.svg/480px-OOjs_UI_icon_userAvatar-constructive.svg.png\",\"id\":596123698034043}]'"
      ]
     },
     "execution_count": 17,
     "metadata": {},
     "output_type": "execute_result"
    }
   ],
   "source": [
    "j = rq.get(_commissioners_endpoint, headers=headers)\n",
    "j.text"
   ]
  },
  {
   "cell_type": "markdown",
   "id": "314ae790-cbef-4d61-9ccd-a838b29190e6",
   "metadata": {},
   "source": [
    "# Venues"
   ]
  },
  {
   "cell_type": "code",
   "execution_count": null,
   "id": "0c950699-341d-49d6-af66-acc87aa21493",
   "metadata": {},
   "outputs": [],
   "source": [
    "venues = [{\n",
    "        \"name\":\"Maison CAM\"\n",
    "        ,\"address\":\"69 Abbott Court\"\n",
    "        ,\"hosting_count\":1\n",
    "    }\n",
    "        ,{\n",
    "        \"name\":\"Russian Basement\"\n",
    "        ,\"address\":\"123 Dieppe Street\"\n",
    "        ,\"hosting_count\":1\n",
    "    }\n",
    "        ,{\n",
    "        \"name\":\"House of Games\"\n",
    "        ,\"address\":\"456 Near Hospital Street\"\n",
    "        ,\"hosting_count\":3\n",
    "    }\n",
    "        ,{\n",
    "        \"name\":\"Stewart's Stronghold\"\n",
    "        ,\"address\":\"111 Martindale Court\"\n",
    "        ,\"hosting_count\":5\n",
    "    }]"
   ]
  },
  {
   "cell_type": "code",
   "execution_count": null,
   "id": "318970f1-61f9-4e79-bedf-3a6d5827ee5e",
   "metadata": {},
   "outputs": [],
   "source": [
    "j = rq.post(_venues_endpoint, headers=headers, json=venues)\n",
    "j"
   ]
  },
  {
   "cell_type": "code",
   "execution_count": null,
   "id": "4c83150f-fb04-40b2-834b-df36804e4c51",
   "metadata": {},
   "outputs": [],
   "source": [
    "j = rq.get(_venues_endpoint, headers=headers)\n",
    "j.text"
   ]
  },
  {
   "cell_type": "markdown",
   "id": "1aa19066-a9aa-4623-ac74-41f5e9d7697e",
   "metadata": {},
   "source": [
    "# Ranks"
   ]
  },
  {
   "cell_type": "code",
   "execution_count": null,
   "id": "fc3b817a-d5ad-4af9-ae28-e18579133e53",
   "metadata": {},
   "outputs": [],
   "source": [
    "ranks = {\n",
    "        0: \"Neophyte\"\n",
    "        ,1: \"Associate\"\n",
    "        ,2: \"Master\"\n",
    "        ,3: \"National Master\"\n",
    "        ,4: \"International Master\"\n",
    "        ,5: \"Grand Master\"\n",
    "        ,6: \"Super Grand Master\"\n",
    "        ,7: \"Ultimate Grand Master\"\n",
    "        ,8: \"Marshal\"\n",
    "        ,9: \"National Marshal\"\n",
    "        ,10: \"International Marshal\"\n",
    "        ,11: \"Grand Marshal\"\n",
    "        ,12: \"Super Grand Marshal\"\n",
    "        ,13: \"Warlord\"\n",
    "        ,14: \"High Warlord\"\n",
    "    }"
   ]
  },
  {
   "cell_type": "code",
   "execution_count": null,
   "id": "751a53b5-d615-411e-8d92-017580b43159",
   "metadata": {},
   "outputs": [],
   "source": [
    "j = rq.post(_ranks_endpoint, headers=headers, json=ranks)\n",
    "j"
   ]
  },
  {
   "cell_type": "code",
   "execution_count": null,
   "id": "820cb3f7-8428-41ac-ade9-ea3032b2443e",
   "metadata": {},
   "outputs": [],
   "source": [
    "j = rq.get(_ranks_endpoint, headers=headers)\n",
    "j.text"
   ]
  },
  {
   "cell_type": "markdown",
   "id": "6647ac22-e878-46fe-b6c7-713f67d9aa70",
   "metadata": {},
   "source": [
    "# Experiences"
   ]
  },
  {
   "cell_type": "code",
   "execution_count": 24,
   "id": "e23cdd1c-a4df-4890-9b47-69137cb12605",
   "metadata": {},
   "outputs": [],
   "source": [
    "experiences=[{\n",
    "        \"submitted_by\":0\n",
    "        ,\"submitted_date\":\"2023-01-24\"\n",
    "        ,\"event_id\":0\n",
    "        ,\"summary\":\"Good but not that good\"\n",
    "        ,\"strategy\":\"followed what Stephan told me to do\"\n",
    "        ,\"corrections\":\"I did a whole bunch of shit wrong\"\n",
    "        ,\"is_winner\": True\n",
    "        ,\"score\": 100\n",
    "        ,\"rating\": 100\n",
    "        ,\"weight\": 90\n",
    "        ,\"comments\":\"Would play again\"\n",
    "        ,\"pics\":[]\n",
    "    }\n",
    "        ,{\n",
    "        \"submitted_by\":1\n",
    "        ,\"submitted_date\":\"2023-01-24\"\n",
    "        ,\"event_id\":0\n",
    "        ,\"summary\":\"Good but not that good\"\n",
    "        ,\"strategy\":\"followed what Carlo told me to do\"\n",
    "        ,\"corrections\":\"I didn't do a whole lot wrong\"\n",
    "        ,\"is_winner\": False\n",
    "        ,\"score\": 80\n",
    "        ,\"rating\": 90\n",
    "        ,\"weight\": 70\n",
    "        ,\"comments\":\"Would probably play again\"\n",
    "        ,\"pics\":[]\n",
    "    }\n",
    "        ,{\n",
    "        \"submitted_by\":2\n",
    "        ,\"submitted_date\":\"2023-01-24\"\n",
    "        ,\"event_id\":0\n",
    "        ,\"summary\":\"Hated it\"\n",
    "        ,\"strategy\":\"followed what Mike told me to do\"\n",
    "        ,\"corrections\":\"could have paid better attention\"\n",
    "        ,\"is_winner\": False\n",
    "        ,\"score\": 60\n",
    "        ,\"rating\": 85\n",
    "        ,\"weight\": 75\n",
    "        ,\"comments\":\"Would attend church before playing this again\"\n",
    "        ,\"pics\":[]\n",
    "    }\n",
    "        ,{\n",
    "        \"submitted_by\":3\n",
    "        ,\"submitted_date\":\"2023-01-24\"\n",
    "        ,\"event_id\":0\n",
    "        ,\"summary\":\"Loved it\"\n",
    "        ,\"strategy\":\"followed what BoardGameGeek told me to do\"\n",
    "        ,\"corrections\":\"What game are we playing again\"\n",
    "        ,\"is_winner\": False\n",
    "        ,\"score\": 98\n",
    "        ,\"rating\": 80\n",
    "        ,\"weight\": 66\n",
    "        ,\"comments\":\"Starting a Brass Birmingham singles group\"\n",
    "        ,\"pics\":[]\n",
    "    }]"
   ]
  },
  {
   "cell_type": "code",
   "execution_count": 25,
   "id": "91de3a6e-cec6-40e8-b215-2d09102753cd",
   "metadata": {},
   "outputs": [
    {
     "data": {
      "text/plain": [
       "<Response [200]>"
      ]
     },
     "execution_count": 25,
     "metadata": {},
     "output_type": "execute_result"
    }
   ],
   "source": [
    "j = rq.put(_experiences_endpoint, headers=headers, json=experiences)\n",
    "j"
   ]
  },
  {
   "cell_type": "code",
   "execution_count": 26,
   "id": "e27280c5-d9f8-401e-b514-a42b76d1104b",
   "metadata": {},
   "outputs": [
    {
     "data": {
      "text/plain": [
       "[{'submitted_by': 0,\n",
       "  'submitted_date': '2023-01-24',\n",
       "  'event_id': 0,\n",
       "  'game_title': 'What the hell was that',\n",
       "  'game_game': 'Brass Birmingham',\n",
       "  'summary': 'Good but not that good',\n",
       "  'strategy': 'followed what Stephan told me to do',\n",
       "  'corrections': 'I did a whole bunch of shit wrong',\n",
       "  'is_winner': True,\n",
       "  'score': 100,\n",
       "  'rating': 100,\n",
       "  'weight': 90,\n",
       "  'comments': 'Would play again',\n",
       "  'id': 596723964331216},\n",
       " {'submitted_by': 1,\n",
       "  'submitted_date': '2023-01-24',\n",
       "  'event_id': 0,\n",
       "  'game_title': 'What the hell was that',\n",
       "  'game_game': 'Brass Birmingham',\n",
       "  'summary': 'Good but not that good',\n",
       "  'strategy': 'followed what Carlo told me to do',\n",
       "  'corrections': \"I didn't do a whole lot wrong\",\n",
       "  'is_winner': False,\n",
       "  'score': 80,\n",
       "  'rating': 90,\n",
       "  'weight': 70,\n",
       "  'comments': 'Would probably play again',\n",
       "  'id': 596722523170199},\n",
       " {'submitted_by': 2,\n",
       "  'submitted_date': '2023-01-24',\n",
       "  'event_id': 0,\n",
       "  'game_title': 'What the hell was that',\n",
       "  'game_game': 'Brass Birmingham',\n",
       "  'summary': 'Hated it',\n",
       "  'strategy': 'followed what Mike told me to do',\n",
       "  'corrections': 'could have paid better attention',\n",
       "  'is_winner': False,\n",
       "  'score': 60,\n",
       "  'rating': 85,\n",
       "  'weight': 75,\n",
       "  'comments': 'Would attend church before playing this again',\n",
       "  'id': 596720086740269},\n",
       " {'submitted_by': 3,\n",
       "  'submitted_date': '2023-01-24',\n",
       "  'event_id': 0,\n",
       "  'game_title': 'What the hell was that',\n",
       "  'game_game': 'Brass Birmingham',\n",
       "  'summary': 'Loved it',\n",
       "  'strategy': 'followed what BoardGameGeek told me to do',\n",
       "  'corrections': 'What game are we playing again',\n",
       "  'is_winner': False,\n",
       "  'score': 98,\n",
       "  'rating': 80,\n",
       "  'weight': 66,\n",
       "  'comments': 'Starting a Brass Birmingham singles group',\n",
       "  'id': 596720457436560}]"
      ]
     },
     "execution_count": 26,
     "metadata": {},
     "output_type": "execute_result"
    }
   ],
   "source": [
    "j = rq.get(_experiences_endpoint, headers=headers)\n",
    "j.json()"
   ]
  },
  {
   "cell_type": "raw",
   "id": "e066a4e6-ae23-47a4-a293-ec766e907e5e",
   "metadata": {},
   "source": [
    "j  = rq.get(_endpoint +f'/{2271048765876461}', headers=headers)\n",
    "j.json()"
   ]
  },
  {
   "cell_type": "markdown",
   "id": "405356d9-4eb1-45e9-8541-fc4b1bfc4378",
   "metadata": {},
   "source": [
    "# Rank Determination: "
   ]
  },
  {
   "cell_type": "code",
   "execution_count": null,
   "id": "d13c54b1-3355-4fdc-9f80-c579c0a671f7",
   "metadata": {},
   "outputs": [],
   "source": [
    "import math"
   ]
  },
  {
   "cell_type": "code",
   "execution_count": null,
   "id": "9981632e-427a-402c-8509-97018a394219",
   "metadata": {},
   "outputs": [],
   "source": [
    "K = 1000\n",
    "r = 0.75"
   ]
  },
  {
   "cell_type": "code",
   "execution_count": null,
   "id": "a7d9f033-71aa-4c14-9bc3-672292b751b7",
   "metadata": {},
   "outputs": [],
   "source": [
    "def logGrowth(K, t, r, a=1):\n",
    "    return K / (1 + (a * (math.exp(-r*t))))"
   ]
  },
  {
   "cell_type": "code",
   "execution_count": null,
   "id": "19356c82-885b-440c-8d53-028818eee83e",
   "metadata": {},
   "outputs": [],
   "source": [
    "for i in range(0,15):\n",
    "    print(f'{i}: {int(logGrowth(K, i, r, 15))}' )    "
   ]
  },
  {
   "cell_type": "code",
   "execution_count": null,
   "id": "2a0a2be7-89c4-4606-ae46-9565bde964cf",
   "metadata": {},
   "outputs": [],
   "source": []
  }
 ],
 "metadata": {
  "kernelspec": {
   "display_name": "Python 3 (ipykernel)",
   "language": "python",
   "name": "python3"
  },
  "language_info": {
   "codemirror_mode": {
    "name": "ipython",
    "version": 3
   },
   "file_extension": ".py",
   "mimetype": "text/x-python",
   "name": "python",
   "nbconvert_exporter": "python",
   "pygments_lexer": "ipython3",
   "version": "3.8.13"
  }
 },
 "nbformat": 4,
 "nbformat_minor": 5
}
