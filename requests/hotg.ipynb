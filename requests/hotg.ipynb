{
 "cells": [
  {
   "cell_type": "code",
   "execution_count": 80,
   "id": "28321e28-08fe-45da-8dc3-42b3ec4a5dbc",
   "metadata": {},
   "outputs": [],
   "source": [
    "import pandas as pd\n",
    "import requests as rq\n",
    "import json"
   ]
  },
  {
   "cell_type": "code",
   "execution_count": 81,
   "id": "12041603-da68-4541-9595-b0f77e2fbdeb",
   "metadata": {},
   "outputs": [],
   "source": [
    "_base_endpoint = 'http://gerdov.com/mike-db/api/hfg2DB/'"
   ]
  },
  {
   "cell_type": "code",
   "execution_count": 82,
   "id": "a8e89b2a-20b0-401e-a6e1-34f58f4cc69f",
   "metadata": {},
   "outputs": [],
   "source": [
    "_events_endpoint = 'http://gerdov.com/mike-db/api/hfg2DB/events'"
   ]
  },
  {
   "cell_type": "code",
   "execution_count": 105,
   "id": "88ad9b6e-0707-4279-a746-fcb509fa0be1",
   "metadata": {},
   "outputs": [],
   "source": [
    "_commissioners_endpoint = 'http://gerdov.com/mike-db/api/hfg2DB/commissioners'"
   ]
  },
  {
   "cell_type": "code",
   "execution_count": 84,
   "id": "b810c746-b615-42ad-911c-c47e91e427bb",
   "metadata": {},
   "outputs": [],
   "source": [
    "_venues_endpoint = 'http://gerdov.com/mike-db/api/hfg2DB/venues'"
   ]
  },
  {
   "cell_type": "code",
   "execution_count": 85,
   "id": "af0e94c1-5aca-46bd-97a8-346621d5fe26",
   "metadata": {},
   "outputs": [],
   "source": [
    "_ranks_endpoint = 'http://gerdov.com/mike-db/api/hfg2DB/ranks'"
   ]
  },
  {
   "cell_type": "code",
   "execution_count": 86,
   "id": "14b72968-6f0e-4e9f-bac7-c331f4b64833",
   "metadata": {
    "tags": []
   },
   "outputs": [],
   "source": [
    "_experiences_endpoint = 'http://gerdov.com/mike-db/api/hfg2DB/experiences'"
   ]
  },
  {
   "cell_type": "code",
   "execution_count": 87,
   "id": "678a63e5-eccf-4649-a1cd-5c0b44007c9d",
   "metadata": {},
   "outputs": [],
   "source": [
    "_secret = 'HFG23cr3tK3y'"
   ]
  },
  {
   "cell_type": "code",
   "execution_count": 88,
   "id": "bad9f986-ee7f-40b0-8002-8f9087f88e3a",
   "metadata": {},
   "outputs": [],
   "source": [
    "headers = {'API_KEY': _secret, \"Content-Type\":\"application/json\"}"
   ]
  },
  {
   "cell_type": "code",
   "execution_count": 94,
   "id": "d28341eb-c75a-43f0-97f3-367c62e214d1",
   "metadata": {},
   "outputs": [
    {
     "data": {
      "text/plain": [
       "'{\"events\":[{\"startDate\":\"2023-01-30\",\"title\":\"Bring the Brass\",\"game\":\"bgg_game_id\",\"attendees\":[0,1,2,3],\"tgc_weight\":0.0,\"tgc_rating\":0.0,\"tgc_experiences\":[0,1,2,3],\"exp\":{\"base\":100,\"win\":50,\"loss\":25},\"winner\":0,\"venue\":0},{\"startDate\":\"2023-01-31\",\"title\":\"infection: Small Pax\",\"game\":\"bgg_game_id\",\"attendees\":[0,1,2,3],\"tgc_weight\":0.0,\"tgc_rating\":0.0,\"tgc_experiences\":[0,1,2,3],\"exp\":{\"base\":100,\"win\":50,\"loss\":25},\"winner\":0,\"venue\":0}],\"id\":41140179111525}'"
      ]
     },
     "execution_count": 94,
     "metadata": {},
     "output_type": "execute_result"
    }
   ],
   "source": [
    "j = rq.get(_events_endpoint, headers=headers)\n",
    "j.text"
   ]
  },
  {
   "cell_type": "markdown",
   "id": "7a061327-7b1a-43e6-ac12-a61d36261b77",
   "metadata": {},
   "source": [
    "# Events"
   ]
  },
  {
   "cell_type": "code",
   "execution_count": 89,
   "id": "04d53770-a8ae-4959-9eda-361f08febba4",
   "metadata": {},
   "outputs": [],
   "source": [
    "events =[{\n",
    "        \"startDate\":\"2023-01-30\"\n",
    "        ,\"title\":\"Bring the Brass\"\n",
    "        ,\"game\":\"bgg_game_id\"\n",
    "        ,\"attendees\":[0,1,2,3]\n",
    "        ,\"tgc_weight\":0.00\n",
    "        ,\"tgc_rating\":0.00\n",
    "        ,\"tgc_experiences\":[0,1,2,3]\n",
    "        ,\"exp\": {\n",
    "            \"base\":100\n",
    "            ,\"win\":50\n",
    "            ,\"loss\":25\n",
    "        }\n",
    "        ,\"winner\":0\n",
    "        ,\"venue\":0\n",
    "    }\n",
    "        ,{\n",
    "        \"startDate\":\"2023-01-31\"\n",
    "        ,\"title\":\"infection: Small Pax\"\n",
    "        ,\"game\":\"bgg_game_id\"\n",
    "        ,\"attendees\":[0,1,2,3]\n",
    "        ,\"tgc_weight\":0.00\n",
    "        ,\"tgc_rating\":0.00\n",
    "        ,\"tgc_experiences\":[0,1,2,3]\n",
    "        ,\"exp\": {\n",
    "            \"base\":100\n",
    "            ,\"win\":50\n",
    "            ,\"loss\":25\n",
    "        }\n",
    "        ,\"winner\":0\n",
    "        ,\"venue\":0\n",
    "    }]"
   ]
  },
  {
   "cell_type": "code",
   "execution_count": 101,
   "id": "cd07a0f4-7e88-4189-a271-0393fa9448c8",
   "metadata": {},
   "outputs": [],
   "source": [
    "j = rq.post(_events_endpoint, headers=headers, json=events)"
   ]
  },
  {
   "cell_type": "code",
   "execution_count": 102,
   "id": "07707e7b-6869-4959-af19-7154485b268f",
   "metadata": {},
   "outputs": [
    {
     "data": {
      "text/plain": [
       "'[{\"startDate\":\"2023-01-30\",\"title\":\"Bring the Brass\",\"game\":\"bgg_game_id\",\"attendees\":[0,1,2,3],\"tgc_weight\":0.0,\"tgc_rating\":0.0,\"tgc_experiences\":[0,1,2,3],\"exp\":{\"base\":100,\"win\":50,\"loss\":25},\"winner\":0,\"venue\":0,\"id\":41156455503232},{\"startDate\":\"2023-01-31\",\"title\":\"infection: Small Pax\",\"game\":\"bgg_game_id\",\"attendees\":[0,1,2,3],\"tgc_weight\":0.0,\"tgc_rating\":0.0,\"tgc_experiences\":[0,1,2,3],\"exp\":{\"base\":100,\"win\":50,\"loss\":25},\"winner\":0,\"venue\":0,\"id\":41154023266983},{\"startDate\":\"2023-01-30\",\"title\":\"Bring the Brass\",\"game\":\"bgg_game_id\",\"attendees\":[0,1,2,3],\"tgc_weight\":0.0,\"tgc_rating\":0.0,\"tgc_experiences\":[0,1,2,3],\"exp\":{\"base\":100,\"win\":50,\"loss\":25},\"winner\":0,\"venue\":0,\"id\":41174783758040},{\"startDate\":\"2023-01-31\",\"title\":\"infection: Small Pax\",\"game\":\"bgg_game_id\",\"attendees\":[0,1,2,3],\"tgc_weight\":0.0,\"tgc_rating\":0.0,\"tgc_experiences\":[0,1,2,3],\"exp\":{\"base\":100,\"win\":50,\"loss\":25},\"winner\":0,\"venue\":0,\"id\":41172351534534},{\"startDate\":\"2023-01-30\",\"title\":\"Bring the Brass\",\"game\":\"bgg_game_id\",\"attendees\":[0,1,2,3],\"tgc_weight\":0.0,\"tgc_rating\":0.0,\"tgc_experiences\":[0,1,2,3],\"exp\":{\"base\":100,\"win\":50,\"loss\":25},\"winner\":0,\"venue\":0,\"id\":41181303943863},{\"startDate\":\"2023-01-31\",\"title\":\"infection: Small Pax\",\"game\":\"bgg_game_id\",\"attendees\":[0,1,2,3],\"tgc_weight\":0.0,\"tgc_rating\":0.0,\"tgc_experiences\":[0,1,2,3],\"exp\":{\"base\":100,\"win\":50,\"loss\":25},\"winner\":0,\"venue\":0,\"id\":41178871706762},{\"startDate\":\"2023-01-30\",\"title\":\"Bring the Brass\",\"game\":\"bgg_game_id\",\"attendees\":[0,1,2,3],\"tgc_weight\":0.0,\"tgc_rating\":0.0,\"tgc_experiences\":[0,1,2,3],\"exp\":{\"base\":100,\"win\":50,\"loss\":25},\"winner\":0,\"venue\":0,\"id\":41183904631995},{\"startDate\":\"2023-01-31\",\"title\":\"infection: Small Pax\",\"game\":\"bgg_game_id\",\"attendees\":[0,1,2,3],\"tgc_weight\":0.0,\"tgc_rating\":0.0,\"tgc_experiences\":[0,1,2,3],\"exp\":{\"base\":100,\"win\":50,\"loss\":25},\"winner\":0,\"venue\":0,\"id\":41181472395347}]'"
      ]
     },
     "execution_count": 102,
     "metadata": {},
     "output_type": "execute_result"
    }
   ],
   "source": [
    "j = rq.get(_events_endpoint, headers=headers)\n",
    "j.text"
   ]
  },
  {
   "cell_type": "markdown",
   "id": "59f69896-ce46-42b8-a054-a4ebe2b07eda",
   "metadata": {},
   "source": [
    "# Commissioners"
   ]
  },
  {
   "cell_type": "code",
   "execution_count": 91,
   "id": "854c88f6-1423-41c1-b91a-b63331488fed",
   "metadata": {},
   "outputs": [],
   "source": [
    "commissioners =[{\n",
    "        \"name\":\"Carlheinz\"\n",
    "        ,\"level\": 0\n",
    "        ,\"exp\": 10\n",
    "        ,\"venue\":0\n",
    "        ,\"rank\": 0\n",
    "        ,\"wins\":0\n",
    "        ,\"note\": \"loves scotch.\"\n",
    "    }\n",
    "        ,{\n",
    "        \"name\":\"Maggus\"\n",
    "        ,\"level\": 0\n",
    "        ,\"exp\": 50\n",
    "        ,\"venue\":1\n",
    "        ,\"rank\": 0\n",
    "        ,\"wins\":0\n",
    "        ,\"note\": \"loves cat photos.\"\n",
    "    }\n",
    "        ,{\n",
    "        \"name\":\"OriginalPotatoChip\"\n",
    "        ,\"level\": 0\n",
    "        ,\"exp\": 60\n",
    "        ,\"venue\":2\n",
    "        ,\"rank\": 0\n",
    "        ,\"wins\":0\n",
    "        ,\"note\": \"Will strip for Pringles.\"\n",
    "    }\n",
    "        ,{\n",
    "        \"name\":\"Reebs\"\n",
    "        ,\"level\": 0\n",
    "        ,\"exp\": 70\n",
    "        ,\"venue\":3\n",
    "        ,\"rank\": 0\n",
    "        ,\"wins\":0\n",
    "        ,\"note\": \"hates cat photos.\"\n",
    "    }]\n",
    "    "
   ]
  },
  {
   "cell_type": "code",
   "execution_count": 109,
   "id": "d5d8989a-a022-45dd-aedb-a3d014de7793",
   "metadata": {},
   "outputs": [
    {
     "data": {
      "text/plain": [
       "<Response [200]>"
      ]
     },
     "execution_count": 109,
     "metadata": {},
     "output_type": "execute_result"
    }
   ],
   "source": [
    "j = rq.post(_commissioners_endpoint, headers=headers, json=commissioners)\n",
    "j"
   ]
  },
  {
   "cell_type": "code",
   "execution_count": 110,
   "id": "741d7f65-33e8-4719-b6c5-de5c16054736",
   "metadata": {},
   "outputs": [
    {
     "data": {
      "text/plain": [
       "'[{\"name\":\"Carlheinz\",\"level\":0,\"exp\":10,\"venue\":0,\"rank\":0,\"wins\":0,\"note\":\"loves scotch.\",\"id\":41289485457309},{\"name\":\"Maggus\",\"level\":0,\"exp\":50,\"venue\":1,\"rank\":0,\"wins\":0,\"note\":\"loves cat photos.\",\"id\":41292528810157},{\"name\":\"OriginalPotatoChip\",\"level\":0,\"exp\":60,\"venue\":2,\"rank\":0,\"wins\":0,\"note\":\"Will strip for Pringles.\",\"id\":41293656508167},{\"name\":\"Reebs\",\"level\":0,\"exp\":70,\"venue\":3,\"rank\":0,\"wins\":0,\"note\":\"hates cat photos.\",\"id\":41293315969295}]'"
      ]
     },
     "execution_count": 110,
     "metadata": {},
     "output_type": "execute_result"
    }
   ],
   "source": [
    "j = rq.get(_commisioners_endpoint, headers=headers)\n",
    "j.text"
   ]
  },
  {
   "cell_type": "markdown",
   "id": "314ae790-cbef-4d61-9ccd-a838b29190e6",
   "metadata": {},
   "source": [
    "# Venues"
   ]
  },
  {
   "cell_type": "code",
   "execution_count": 92,
   "id": "0c950699-341d-49d6-af66-acc87aa21493",
   "metadata": {},
   "outputs": [],
   "source": [
    "venues = [{\n",
    "        \"name\":\"Maison CAM\"\n",
    "        ,\"address\":\"69 Abbott Court\"\n",
    "        ,\"hosting_count\":1\n",
    "    }\n",
    "        ,{\n",
    "        \"name\":\"Russian Basement\"\n",
    "        ,\"address\":\"123 Dieppe Street\"\n",
    "        ,\"hosting_count\":1\n",
    "    }\n",
    "        ,{\n",
    "        \"name\":\"House of Games\"\n",
    "        ,\"address\":\"456 Near Hospital Street\"\n",
    "        ,\"hosting_count\":3\n",
    "    }\n",
    "        ,{\n",
    "        \"name\":\"Stewart's Stronghold\"\n",
    "        ,\"address\":\"111 Martindale Court\"\n",
    "        ,\"hosting_count\":5\n",
    "    }]"
   ]
  },
  {
   "cell_type": "code",
   "execution_count": 111,
   "id": "318970f1-61f9-4e79-bedf-3a6d5827ee5e",
   "metadata": {},
   "outputs": [
    {
     "data": {
      "text/plain": [
       "<Response [201]>"
      ]
     },
     "execution_count": 111,
     "metadata": {},
     "output_type": "execute_result"
    }
   ],
   "source": [
    "j = rq.post(_venues_endpoint, headers=headers, json=venues)\n",
    "j"
   ]
  },
  {
   "cell_type": "code",
   "execution_count": 112,
   "id": "4c83150f-fb04-40b2-834b-df36804e4c51",
   "metadata": {},
   "outputs": [
    {
     "data": {
      "text/plain": [
       "'[{\"name\":\"Maison CAM\",\"address\":\"69 Abbott Court\",\"hosting_count\":1,\"id\":41301728934291},{\"name\":\"Russian Basement\",\"address\":\"123 Dieppe Street\",\"hosting_count\":1,\"id\":41304326984935},{\"name\":\"House of Games\",\"address\":\"456 Near Hospital Street\",\"hosting_count\":3,\"id\":41301324550002},{\"name\":\"Stewart\\'s Stronghold\",\"address\":\"111 Martindale Court\",\"hosting_count\":5,\"id\":41304245112017}]'"
      ]
     },
     "execution_count": 112,
     "metadata": {},
     "output_type": "execute_result"
    }
   ],
   "source": [
    "j = rq.get(_venues_endpoint, headers=headers)\n",
    "j.text"
   ]
  },
  {
   "cell_type": "markdown",
   "id": "1aa19066-a9aa-4623-ac74-41f5e9d7697e",
   "metadata": {},
   "source": [
    "# Ranks"
   ]
  },
  {
   "cell_type": "code",
   "execution_count": 93,
   "id": "fc3b817a-d5ad-4af9-ae28-e18579133e53",
   "metadata": {},
   "outputs": [],
   "source": [
    "ranks = {\n",
    "        0: \"Neophyte\"\n",
    "        ,1: \"Associate\"\n",
    "        ,2: \"Master\"\n",
    "        ,3: \"National Master\"\n",
    "        ,4: \"International Master\"\n",
    "        ,5: \"Grand Master\"\n",
    "        ,6: \"Super Grand Master\"\n",
    "        ,7: \"Ultimate Grand Master\"\n",
    "        ,8: \"Marshal\"\n",
    "        ,9: \"National Marshal\"\n",
    "        ,10: \"International Marshal\"\n",
    "        ,11: \"Grand Marshal\"\n",
    "        ,12: \"Super Grand Marshal\"\n",
    "        ,13: \"Warlord\"\n",
    "        ,14: \"High Warlord\"\n",
    "    }"
   ]
  },
  {
   "cell_type": "code",
   "execution_count": 114,
   "id": "751a53b5-d615-411e-8d92-017580b43159",
   "metadata": {},
   "outputs": [
    {
     "data": {
      "text/plain": [
       "<Response [201]>"
      ]
     },
     "execution_count": 114,
     "metadata": {},
     "output_type": "execute_result"
    }
   ],
   "source": [
    "j = rq.post(_ranks_endpoint, headers=headers, json=ranks)\n",
    "j"
   ]
  },
  {
   "cell_type": "code",
   "execution_count": 115,
   "id": "820cb3f7-8428-41ac-ade9-ea3032b2443e",
   "metadata": {},
   "outputs": [
    {
     "data": {
      "text/plain": [
       "'[{\"0\":\"Neophyte\",\"1\":\"Associate\",\"2\":\"Master\",\"3\":\"National Master\",\"4\":\"International Master\",\"5\":\"Grand Master\",\"6\":\"Super Grand Master\",\"7\":\"Ultimate Grand Master\",\"8\":\"Marshal\",\"9\":\"National Marshal\",\"10\":\"International Marshal\",\"11\":\"Grand Marshal\",\"12\":\"Super Grand Marshal\",\"13\":\"Warlord\",\"14\":\"High Warlord\",\"id\":41329153599819}]'"
      ]
     },
     "execution_count": 115,
     "metadata": {},
     "output_type": "execute_result"
    }
   ],
   "source": [
    "j = rq.get(_ranks_endpoint, headers=headers)\n",
    "j.text"
   ]
  },
  {
   "cell_type": "markdown",
   "id": "6647ac22-e878-46fe-b6c7-713f67d9aa70",
   "metadata": {},
   "source": [
    "# Experiences"
   ]
  },
  {
   "cell_type": "code",
   "execution_count": 90,
   "id": "e23cdd1c-a4df-4890-9b47-69137cb12605",
   "metadata": {},
   "outputs": [],
   "source": [
    "experiences=[{\n",
    "        \"submitted_by\":0\n",
    "        ,\"event_id\":0\n",
    "        ,\"title\":\"Good but not that good\"\n",
    "        ,\"strategy\":\"followed what Stephan told me to do\"\n",
    "        ,\"is_winner\": True\n",
    "        ,\"score\": 100\n",
    "        ,\"rating\": 100\n",
    "        ,\"weight\": 90\n",
    "        ,\"comments\":\"Would play again\"\n",
    "    }\n",
    "        ,{\n",
    "        \"submitted_by\":1\n",
    "        ,\"event_id\":0\n",
    "        ,\"title\":\"Very Good\"\n",
    "        ,\"strategy\":\"followed what Carlo told me to do\"\n",
    "        ,\"is_winner\": False\n",
    "        ,\"score\": 80\n",
    "        ,\"rating\": 90\n",
    "        ,\"weight\": 70\n",
    "        ,\"comments\":\"Would probably play again\"\n",
    "    }\n",
    "        ,{\n",
    "        \"submitted_by\":2\n",
    "        ,\"event_id\":0\n",
    "        ,\"title\":\"Hated it\"\n",
    "        ,\"strategy\":\"followed what Mike told me to do\"\n",
    "        ,\"is_winner\": False\n",
    "        ,\"score\": 60\n",
    "        ,\"rating\": 85\n",
    "        ,\"weight\": 75\n",
    "        ,\"comments\":\"Would attend church before playing this again\"\n",
    "    }\n",
    "        ,{\n",
    "        \"submitted_by\":3\n",
    "        ,\"event_id\":0\n",
    "        ,\"title\":\"Loved it\"\n",
    "        ,\"strategy\":\"followed what BoardGameGeek told me to do\"\n",
    "        ,\"is_winner\": False\n",
    "        ,\"score\": 98\n",
    "        ,\"rating\": 80\n",
    "        ,\"weight\": 66\n",
    "        ,\"comments\":\"Starting a Brass Birmingham singles group\"\n",
    "    }]"
   ]
  },
  {
   "cell_type": "code",
   "execution_count": 116,
   "id": "91de3a6e-cec6-40e8-b215-2d09102753cd",
   "metadata": {},
   "outputs": [
    {
     "data": {
      "text/plain": [
       "<Response [201]>"
      ]
     },
     "execution_count": 116,
     "metadata": {},
     "output_type": "execute_result"
    }
   ],
   "source": [
    "j = rq.post(_experiences_endpoint, headers=headers, json=experiences)\n",
    "j"
   ]
  },
  {
   "cell_type": "code",
   "execution_count": 117,
   "id": "e27280c5-d9f8-401e-b514-a42b76d1104b",
   "metadata": {},
   "outputs": [
    {
     "data": {
      "text/plain": [
       "'[{\"submitted_by\":0,\"event_id\":0,\"title\":\"Good but not that good\",\"strategy\":\"followed what Stephan told me to do\",\"is_winner\":true,\"score\":100,\"rating\":100,\"weight\":90,\"comments\":\"Would play again\",\"id\":41337904668513},{\"submitted_by\":1,\"event_id\":0,\"title\":\"Very Good\",\"strategy\":\"followed what Carlo told me to do\",\"is_winner\":false,\"score\":80,\"rating\":90,\"weight\":70,\"comments\":\"Would probably play again\",\"id\":41335765745157},{\"submitted_by\":2,\"event_id\":0,\"title\":\"Hated it\",\"strategy\":\"followed what Mike told me to do\",\"is_winner\":false,\"score\":60,\"rating\":85,\"weight\":75,\"comments\":\"Would attend church before playing this again\",\"id\":41337615781419},{\"submitted_by\":3,\"event_id\":0,\"title\":\"Loved it\",\"strategy\":\"followed what BoardGameGeek told me to do\",\"is_winner\":false,\"score\":98,\"rating\":80,\"weight\":66,\"comments\":\"Starting a Brass Birmingham singles group\",\"id\":41334722015044}]'"
      ]
     },
     "execution_count": 117,
     "metadata": {},
     "output_type": "execute_result"
    }
   ],
   "source": [
    "j = rq.get(_experiences_endpoint, headers=headers)\n",
    "j.text"
   ]
  },
  {
   "cell_type": "code",
   "execution_count": 13,
   "id": "3eb3a30a-6d0d-4fcf-8cce-d60aa38ca732",
   "metadata": {},
   "outputs": [],
   "source": [
    "j  = rq.get(_endpoint +f'/{2271048765876461}', headers=headers)\n",
    "j.json()"
   ]
  },
  {
   "cell_type": "code",
   "execution_count": null,
   "id": "3401ac29-3968-4ed3-b954-b81de458caa5",
   "metadata": {},
   "outputs": [],
   "source": []
  }
 ],
 "metadata": {
  "kernelspec": {
   "display_name": "Python 3 (ipykernel)",
   "language": "python",
   "name": "python3"
  },
  "language_info": {
   "codemirror_mode": {
    "name": "ipython",
    "version": 3
   },
   "file_extension": ".py",
   "mimetype": "text/x-python",
   "name": "python",
   "nbconvert_exporter": "python",
   "pygments_lexer": "ipython3",
   "version": "3.8.13"
  }
 },
 "nbformat": 4,
 "nbformat_minor": 5
}
