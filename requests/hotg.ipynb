{
 "cells": [
  {
   "cell_type": "code",
   "execution_count": 1,
   "id": "28321e28-08fe-45da-8dc3-42b3ec4a5dbc",
   "metadata": {},
   "outputs": [],
   "source": [
    "import pandas as pd\n",
    "import requests as rq\n",
    "import json"
   ]
  },
  {
   "cell_type": "code",
   "execution_count": 2,
   "id": "12041603-da68-4541-9595-b0f77e2fbdeb",
   "metadata": {},
   "outputs": [],
   "source": [
    "_base_endpoint = 'http://gerdov.com/mike-db/api/hfg2DB/'"
   ]
  },
  {
   "cell_type": "code",
   "execution_count": 3,
   "id": "a8e89b2a-20b0-401e-a6e1-34f58f4cc69f",
   "metadata": {},
   "outputs": [],
   "source": [
    "_events_endpoint = 'http://gerdov.com/mike-db/api/hfg2DB/events'"
   ]
  },
  {
   "cell_type": "code",
   "execution_count": 4,
   "id": "88ad9b6e-0707-4279-a746-fcb509fa0be1",
   "metadata": {},
   "outputs": [],
   "source": [
    "_commissioners_endpoint = 'http://gerdov.com/mike-db/api/hfg2DB/commissioners'"
   ]
  },
  {
   "cell_type": "code",
   "execution_count": 5,
   "id": "b810c746-b615-42ad-911c-c47e91e427bb",
   "metadata": {},
   "outputs": [],
   "source": [
    "_venues_endpoint = 'http://gerdov.com/mike-db/api/hfg2DB/venues'"
   ]
  },
  {
   "cell_type": "code",
   "execution_count": 6,
   "id": "af0e94c1-5aca-46bd-97a8-346621d5fe26",
   "metadata": {},
   "outputs": [],
   "source": [
    "_ranks_endpoint = 'http://gerdov.com/mike-db/api/hfg2DB/ranks'"
   ]
  },
  {
   "cell_type": "code",
   "execution_count": 7,
   "id": "14b72968-6f0e-4e9f-bac7-c331f4b64833",
   "metadata": {
    "tags": []
   },
   "outputs": [],
   "source": [
    "_experiences_endpoint = 'http://gerdov.com/mike-db/api/hfg2DB/experiences'"
   ]
  },
  {
   "cell_type": "code",
   "execution_count": 8,
   "id": "1ed2ba51-4af9-449c-9178-e26c38c7d390",
   "metadata": {},
   "outputs": [],
   "source": [
    "_games_endpoint = 'http://gerdov.com/mike-db/api/hfg2DB/games'"
   ]
  },
  {
   "cell_type": "code",
   "execution_count": 9,
   "id": "678a63e5-eccf-4649-a1cd-5c0b44007c9d",
   "metadata": {},
   "outputs": [],
   "source": [
    "_secret = 'HFG23cr3tK3y'"
   ]
  },
  {
   "cell_type": "code",
   "execution_count": 10,
   "id": "bad9f986-ee7f-40b0-8002-8f9087f88e3a",
   "metadata": {},
   "outputs": [],
   "source": [
    "headers = {'API_KEY': _secret, \"Content-Type\":\"application/json\"}"
   ]
  },
  {
   "cell_type": "code",
   "execution_count": 11,
   "id": "d28341eb-c75a-43f0-97f3-367c62e214d1",
   "metadata": {},
   "outputs": [
    {
     "data": {
      "text/plain": [
       "'[{\"startDate\":\"2023-02-06\",\"title\":\"Bring the Brass\",\"game\":\"bgg_game_id\",\"attendees\":[0,1,2,3],\"tgc_weight\":0.0,\"tgc_rating\":0.0,\"tgc_experiences\":[],\"exp\":{\"base\":150,\"win\":50,\"loss\":25},\"winner\":0,\"venue\":0,\"submitted_by\":0,\"id\":1649389585175224},{\"startDate\":\"2023-02-13\",\"title\":\"Call home with Smartphone\",\"game\":\"bgg_game_id\",\"attendees\":[0,1,2,3],\"tgc_weight\":0.0,\"tgc_rating\":0.0,\"tgc_experiences\":[],\"exp\":{\"base\":90,\"win\":35,\"loss\":0},\"winner\":0,\"venue\":0,\"submitted_by\":0,\"id\":1649390482710225},{\"startDate\":\"2023-02-20\",\"title\":\"infection: Small Pax\",\"game\":\"bgg_game_id\",\"attendees\":[0,1,2,3],\"tgc_weight\":0.0,\"tgc_rating\":0.0,\"tgc_experiences\":[],\"exp\":{\"base\":100,\"win\":50,\"loss\":25},\"winner\":0,\"venue\":0,\"submitted_by\":0,\"id\":1649391447903170},{\"startDate\":\"2023-02-27\",\"title\":\"Relax with a little glass of Vinhos\",\"game\":\"bgg_game_id\",\"attendees\":[0,1,2,3],\"tgc_weight\":0.0,\"tgc_rating\":0.0,\"tgc_experiences\":[],\"exp\":{\"base\":125,\"win\":50,\"loss\":25},\"winner\":0,\"venue\":0,\"submitted_by\":0,\"id\":1649391347355469},{\"startDate\":\"2023-02-23\",\"attendees\":[],\"tgc_experiences\":[1759356124740822],\"exp\":{\"base\":0,\"win\":0,\"loss\":0},\"winner\":0,\"venue\":0,\"id\":1759337270663904}]'"
      ]
     },
     "execution_count": 11,
     "metadata": {},
     "output_type": "execute_result"
    }
   ],
   "source": [
    "j = rq.get(_events_endpoint, headers=headers)\n",
    "j.text"
   ]
  },
  {
   "cell_type": "markdown",
   "id": "7a061327-7b1a-43e6-ac12-a61d36261b77",
   "metadata": {
    "tags": []
   },
   "source": [
    "# Events"
   ]
  },
  {
   "cell_type": "code",
   "execution_count": 12,
   "id": "04d53770-a8ae-4959-9eda-361f08febba4",
   "metadata": {},
   "outputs": [],
   "source": [
    "events =[{\n",
    "            \"startDate\":\"2023-02-06\"\n",
    "            ,\"title\":\"Bring the Brass\"\n",
    "            ,\"game\":\"bgg_game_id\"\n",
    "            ,\"attendees\":[0,1,2,3]\n",
    "            ,\"tgc_weight\":0.00\n",
    "            ,\"tgc_rating\":0.00\n",
    "            ,\"tgc_experiences\":[]\n",
    "            ,\"exp\": {\n",
    "                \"base\":150\n",
    "                ,\"win\":50\n",
    "                ,\"loss\":25\n",
    "            }\n",
    "            ,\"winner\":0\n",
    "            ,\"venue\":0\n",
    "            ,\"submitted_by\":0\n",
    "        }\n",
    "        ,{\n",
    "            \"startDate\":\"2023-02-13\"\n",
    "            ,\"title\":\"Call home with Smartphone\"\n",
    "            ,\"game\":\"bgg_game_id\"\n",
    "            ,\"attendees\":[0,1,2,3]\n",
    "            ,\"tgc_weight\":0.00\n",
    "            ,\"tgc_rating\":0.00\n",
    "            ,\"tgc_experiences\":[]\n",
    "            ,\"exp\": {\n",
    "                \"base\":90\n",
    "                ,\"win\":35\n",
    "                ,\"loss\":0\n",
    "            }\n",
    "            ,\"winner\":0\n",
    "            ,\"venue\":0\n",
    "            ,\"submitted_by\":0\n",
    "        }\n",
    "        ,{\n",
    "            \"startDate\":\"2023-02-20\"\n",
    "            ,\"title\":\"infection: Small Pax\"\n",
    "            ,\"game\":\"bgg_game_id\"\n",
    "            ,\"attendees\":[0,1,2,3]\n",
    "            ,\"tgc_weight\":0.00\n",
    "            ,\"tgc_rating\":0.00\n",
    "            ,\"tgc_experiences\":[]\n",
    "            ,\"exp\": {\n",
    "                \"base\":100\n",
    "                ,\"win\":50\n",
    "                ,\"loss\":25\n",
    "            }\n",
    "            ,\"winner\":0\n",
    "            ,\"venue\":0\n",
    "            ,\"submitted_by\":0\n",
    "        }\n",
    "        ,{\n",
    "            \"startDate\":\"2023-02-27\"\n",
    "            ,\"title\":\"Relax with a little glass of Vinhos\"\n",
    "            ,\"game\":\"bgg_game_id\"\n",
    "            ,\"attendees\":[0,1,2,3]\n",
    "            ,\"tgc_weight\":0.00\n",
    "            ,\"tgc_rating\":0.00\n",
    "            ,\"tgc_experiences\":[]\n",
    "            ,\"exp\": {\n",
    "                \"base\":125\n",
    "                ,\"win\":50\n",
    "                ,\"loss\":25\n",
    "            }\n",
    "            ,\"winner\":0\n",
    "            ,\"venue\":0\n",
    "            ,\"submitted_by\":0\n",
    "        }]"
   ]
  },
  {
   "cell_type": "code",
   "execution_count": 13,
   "id": "cd07a0f4-7e88-4189-a271-0393fa9448c8",
   "metadata": {},
   "outputs": [],
   "source": [
    "j = rq.put(_events_endpoint, headers=headers, json=events)"
   ]
  },
  {
   "cell_type": "code",
   "execution_count": 14,
   "id": "07707e7b-6869-4959-af19-7154485b268f",
   "metadata": {},
   "outputs": [
    {
     "data": {
      "text/plain": [
       "'[{\"startDate\":\"2023-02-06\",\"title\":\"Bring the Brass\",\"game\":\"bgg_game_id\",\"attendees\":[0,1,2,3],\"tgc_weight\":0.0,\"tgc_rating\":0.0,\"tgc_experiences\":[],\"exp\":{\"base\":150,\"win\":50,\"loss\":25},\"winner\":0,\"venue\":0,\"submitted_by\":0,\"id\":1908050752269458},{\"startDate\":\"2023-02-13\",\"title\":\"Call home with Smartphone\",\"game\":\"bgg_game_id\",\"attendees\":[0,1,2,3],\"tgc_weight\":0.0,\"tgc_rating\":0.0,\"tgc_experiences\":[],\"exp\":{\"base\":90,\"win\":35,\"loss\":0},\"winner\":0,\"venue\":0,\"submitted_by\":0,\"id\":1908051649827380},{\"startDate\":\"2023-02-20\",\"title\":\"infection: Small Pax\",\"game\":\"bgg_game_id\",\"attendees\":[0,1,2,3],\"tgc_weight\":0.0,\"tgc_rating\":0.0,\"tgc_experiences\":[],\"exp\":{\"base\":100,\"win\":50,\"loss\":25},\"winner\":0,\"venue\":0,\"submitted_by\":0,\"id\":1908052615020356},{\"startDate\":\"2023-02-27\",\"title\":\"Relax with a little glass of Vinhos\",\"game\":\"bgg_game_id\",\"attendees\":[0,1,2,3],\"tgc_weight\":0.0,\"tgc_rating\":0.0,\"tgc_experiences\":[],\"exp\":{\"base\":125,\"win\":50,\"loss\":25},\"winner\":0,\"venue\":0,\"submitted_by\":0,\"id\":1908052514472645}]'"
      ]
     },
     "execution_count": 14,
     "metadata": {},
     "output_type": "execute_result"
    }
   ],
   "source": [
    "j = rq.get(_events_endpoint, headers=headers)\n",
    "j.text"
   ]
  },
  {
   "cell_type": "markdown",
   "id": "59f69896-ce46-42b8-a054-a4ebe2b07eda",
   "metadata": {},
   "source": [
    "# Commissioners"
   ]
  },
  {
   "cell_type": "code",
   "execution_count": 15,
   "id": "854c88f6-1423-41c1-b91a-b63331488fed",
   "metadata": {},
   "outputs": [],
   "source": [
    "commissioners =[{\n",
    "        \"name\":\"Carlheinz\"\n",
    "        ,\"joined\":\"2022-11-26\"\n",
    "        ,\"level\": 0\n",
    "        ,\"exp\": 1030\n",
    "        ,\"venue\":0\n",
    "        ,\"rank\": 0\n",
    "        ,\"wins\":0\n",
    "        ,\"note\": \"loves scotch.\"\n",
    "        ,\"thumbnail\":\"https://upload.wikimedia.org/wikipedia/commons/thumb/9/98/OOjs_UI_icon_userAvatar.svg/480px-OOjs_UI_icon_userAvatar.svg.png\"\n",
    "        ,\"client_id\":\"63e05095431c4d72ac61a727\"\n",
    "    }\n",
    "        ,{\n",
    "        \"name\":\"Maggus\"\n",
    "        ,\"joined\":\"2022-11-26\"\n",
    "        ,\"level\": 0\n",
    "        ,\"exp\": 548\n",
    "        ,\"venue\":1\n",
    "        ,\"rank\": 0\n",
    "        ,\"wins\":0\n",
    "        ,\"note\": \"loves cat photos.\"\n",
    "        ,\"thumbnail\":\"https://upload.wikimedia.org/wikipedia/commons/thumb/9/9c/OOjs_UI_icon_userAvatar-invert.svg/480px-OOjs_UI_icon_userAvatar-invert.svg.png\"\n",
    "        ,\"client_id\":\"\"\n",
    "    }\n",
    "        ,{\n",
    "        \"name\":\"OriginalPotatoChip\"\n",
    "        ,\"joined\":\"2022-11-26\"\n",
    "        ,\"level\": 0\n",
    "        ,\"exp\": 978\n",
    "        ,\"venue\":2\n",
    "        ,\"rank\": 0\n",
    "        ,\"wins\":0\n",
    "        ,\"note\": \"Will strip for Pringles.\"\n",
    "        ,\"thumbnail\":\"https://upload.wikimedia.org/wikipedia/commons/thumb/5/57/OOjs_UI_icon_userAvatar-progressive.svg/480px-OOjs_UI_icon_userAvatar-progressive.svg.png\"\n",
    "        ,\"client_id\":\"63e29241ce8bfc1fd7b6edb3\"\n",
    "    }\n",
    "        ,{\n",
    "        \"name\":\"Reebs\"\n",
    "        ,\"joined\":\"2022-11-26\"\n",
    "        ,\"level\": 0\n",
    "        ,\"exp\": 708\n",
    "        ,\"venue\":3\n",
    "        ,\"rank\": 0\n",
    "        ,\"wins\":0\n",
    "        ,\"note\": \"hates cat photos.\"\n",
    "        ,\"thumbnail\":\"https://upload.wikimedia.org/wikipedia/commons/thumb/f/f9/OOjs_UI_icon_userAvatar-constructive.svg/480px-OOjs_UI_icon_userAvatar-constructive.svg.png\"\n",
    "        ,\"client_id\":\"63e2927891cc98da8d14f827\"\n",
    "    }]\n",
    "    "
   ]
  },
  {
   "cell_type": "code",
   "execution_count": 16,
   "id": "d5d8989a-a022-45dd-aedb-a3d014de7793",
   "metadata": {},
   "outputs": [
    {
     "data": {
      "text/plain": [
       "<Response [200]>"
      ]
     },
     "execution_count": 16,
     "metadata": {},
     "output_type": "execute_result"
    }
   ],
   "source": [
    "j = rq.put(_commissioners_endpoint, headers=headers, json=commissioners)\n",
    "j"
   ]
  },
  {
   "cell_type": "code",
   "execution_count": 17,
   "id": "741d7f65-33e8-4719-b6c5-de5c16054736",
   "metadata": {},
   "outputs": [
    {
     "data": {
      "text/plain": [
       "'[{\"name\":\"Carlheinz\",\"joined\":\"2022-11-26\",\"level\":0,\"exp\":1030,\"venue\":0,\"rank\":0,\"wins\":0,\"note\":\"loves scotch.\",\"thumbnail\":\"https://upload.wikimedia.org/wikipedia/commons/thumb/9/98/OOjs_UI_icon_userAvatar.svg/480px-OOjs_UI_icon_userAvatar.svg.png\",\"client_id\":\"63e05095431c4d72ac61a727\",\"id\":1908249290734422},{\"name\":\"Maggus\",\"joined\":\"2022-11-26\",\"level\":0,\"exp\":548,\"venue\":1,\"rank\":0,\"wins\":0,\"note\":\"loves cat photos.\",\"thumbnail\":\"https://upload.wikimedia.org/wikipedia/commons/thumb/9/9c/OOjs_UI_icon_userAvatar-invert.svg/480px-OOjs_UI_icon_userAvatar-invert.svg.png\",\"client_id\":\"\",\"id\":1908247946050527},{\"name\":\"OriginalPotatoChip\",\"joined\":\"2022-11-26\",\"level\":0,\"exp\":978,\"venue\":2,\"rank\":0,\"wins\":0,\"note\":\"Will strip for Pringles.\",\"thumbnail\":\"https://upload.wikimedia.org/wikipedia/commons/thumb/5/57/OOjs_UI_icon_userAvatar-progressive.svg/480px-OOjs_UI_icon_userAvatar-progressive.svg.png\",\"client_id\":\"63e29241ce8bfc1fd7b6edb3\",\"id\":1908250796169886},{\"name\":\"Reebs\",\"joined\":\"2022-11-26\",\"level\":0,\"exp\":708,\"venue\":3,\"rank\":0,\"wins\":0,\"note\":\"hates cat photos.\",\"thumbnail\":\"https://upload.wikimedia.org/wikipedia/commons/thumb/f/f9/OOjs_UI_icon_userAvatar-constructive.svg/480px-OOjs_UI_icon_userAvatar-constructive.svg.png\",\"client_id\":\"63e2927891cc98da8d14f827\",\"id\":1908250637235589}]'"
      ]
     },
     "execution_count": 17,
     "metadata": {},
     "output_type": "execute_result"
    }
   ],
   "source": [
    "j = rq.get(_commissioners_endpoint, headers=headers)\n",
    "j.text"
   ]
  },
  {
   "cell_type": "markdown",
   "id": "314ae790-cbef-4d61-9ccd-a838b29190e6",
   "metadata": {},
   "source": [
    "# Venues"
   ]
  },
  {
   "cell_type": "code",
   "execution_count": null,
   "id": "0c950699-341d-49d6-af66-acc87aa21493",
   "metadata": {},
   "outputs": [],
   "source": [
    "venues = [{\n",
    "        \"name\":\"Maison CAM\"\n",
    "        ,\"address\":\"69 Abbott Court\"\n",
    "        ,\"hosting_count\":1\n",
    "    }\n",
    "        ,{\n",
    "        \"name\":\"Russian Basement\"\n",
    "        ,\"address\":\"123 Dieppe Street\"\n",
    "        ,\"hosting_count\":1\n",
    "    }\n",
    "        ,{\n",
    "        \"name\":\"House of Games\"\n",
    "        ,\"address\":\"456 Near Hospital Street\"\n",
    "        ,\"hosting_count\":3\n",
    "    }\n",
    "        ,{\n",
    "        \"name\":\"Stewart's Stronghold\"\n",
    "        ,\"address\":\"111 Martindale Court\"\n",
    "        ,\"hosting_count\":5\n",
    "    }]"
   ]
  },
  {
   "cell_type": "code",
   "execution_count": null,
   "id": "318970f1-61f9-4e79-bedf-3a6d5827ee5e",
   "metadata": {},
   "outputs": [],
   "source": [
    "j = rq.post(_venues_endpoint, headers=headers, json=venues)\n",
    "j"
   ]
  },
  {
   "cell_type": "code",
   "execution_count": null,
   "id": "4c83150f-fb04-40b2-834b-df36804e4c51",
   "metadata": {},
   "outputs": [],
   "source": [
    "j = rq.get(_venues_endpoint, headers=headers)\n",
    "j.text"
   ]
  },
  {
   "cell_type": "markdown",
   "id": "1aa19066-a9aa-4623-ac74-41f5e9d7697e",
   "metadata": {},
   "source": [
    "# Ranks"
   ]
  },
  {
   "cell_type": "code",
   "execution_count": null,
   "id": "fc3b817a-d5ad-4af9-ae28-e18579133e53",
   "metadata": {},
   "outputs": [],
   "source": [
    "ranks = {\n",
    "        0: \"Neophyte\"\n",
    "        ,1: \"Associate\"\n",
    "        ,2: \"Junior\"\n",
    "        ,3: \"Senior\"\n",
    "        ,4: \"Game Master\"\n",
    "        ,5: \"National Game Master\"\n",
    "        ,6: \"International Game Master\"\n",
    "        ,7: \"Grand Game Master\"\n",
    "        ,8: \"Super Grand Game Master\"\n",
    "        ,9: \"Ultimate Grand Game Master\"\n",
    "        ,10: \"Game Marshal\"\n",
    "        ,11: \"National Game Marshal\"\n",
    "        ,12: \"International Game Marshal\"\n",
    "        ,13: \"Grand Game Marshal\"\n",
    "        ,14: \"Super Grand Game Marshal\"\n",
    "        ,15: \"Game Warlord\"\n",
    "        ,16: \"High Game Warlord\"\n",
    "    }"
   ]
  },
  {
   "cell_type": "code",
   "execution_count": null,
   "id": "751a53b5-d615-411e-8d92-017580b43159",
   "metadata": {},
   "outputs": [],
   "source": [
    "j = rq.put(_ranks_endpoint, headers=headers, json=ranks)\n",
    "j"
   ]
  },
  {
   "cell_type": "code",
   "execution_count": null,
   "id": "820cb3f7-8428-41ac-ade9-ea3032b2443e",
   "metadata": {},
   "outputs": [],
   "source": [
    "j = rq.get(_ranks_endpoint, headers=headers)\n",
    "j.text"
   ]
  },
  {
   "cell_type": "markdown",
   "id": "6647ac22-e878-46fe-b6c7-713f67d9aa70",
   "metadata": {},
   "source": [
    "# Experiences"
   ]
  },
  {
   "cell_type": "code",
   "execution_count": null,
   "id": "e23cdd1c-a4df-4890-9b47-69137cb12605",
   "metadata": {},
   "outputs": [],
   "source": [
    "experiences=[{\n",
    "        \"submitted_by\":0\n",
    "        ,\"submitted_date\":\"2023-01-24\"\n",
    "        ,\"event_id\":0\n",
    "        ,\"summary\":\"Good but not that good\"\n",
    "        ,\"strategy\":\"followed what Stephan told me to do\"\n",
    "        ,\"corrections\":\"I did a whole bunch of shit wrong\"\n",
    "        ,\"is_winner\": True\n",
    "        ,\"score\": 100\n",
    "        ,\"rating\": 100\n",
    "        ,\"weight\": 90\n",
    "        ,\"comments\":\"Would play again\"\n",
    "        ,\"pics\":[]\n",
    "    }\n",
    "        ,{\n",
    "        \"submitted_by\":1\n",
    "        ,\"submitted_date\":\"2023-01-24\"\n",
    "        ,\"event_id\":0\n",
    "        ,\"summary\":\"Good but not that good\"\n",
    "        ,\"strategy\":\"followed what Carlo told me to do\"\n",
    "        ,\"corrections\":\"I didn't do a whole lot wrong\"\n",
    "        ,\"is_winner\": False\n",
    "        ,\"score\": 80\n",
    "        ,\"rating\": 90\n",
    "        ,\"weight\": 70\n",
    "        ,\"comments\":\"Would probably play again\"\n",
    "        ,\"pics\":[]\n",
    "    }\n",
    "        ,{\n",
    "        \"submitted_by\":2\n",
    "        ,\"submitted_date\":\"2023-01-24\"\n",
    "        ,\"event_id\":0\n",
    "        ,\"summary\":\"Hated it\"\n",
    "        ,\"strategy\":\"followed what Mike told me to do\"\n",
    "        ,\"corrections\":\"could have paid better attention\"\n",
    "        ,\"is_winner\": False\n",
    "        ,\"score\": 60\n",
    "        ,\"rating\": 85\n",
    "        ,\"weight\": 75\n",
    "        ,\"comments\":\"Would attend church before playing this again\"\n",
    "        ,\"pics\":[]\n",
    "    }\n",
    "        ,{\n",
    "        \"submitted_by\":3\n",
    "        ,\"submitted_date\":\"2023-01-24\"\n",
    "        ,\"event_id\":0\n",
    "        ,\"summary\":\"Loved it\"\n",
    "        ,\"strategy\":\"followed what BoardGameGeek told me to do\"\n",
    "        ,\"corrections\":\"What game are we playing again\"\n",
    "        ,\"is_winner\": False\n",
    "        ,\"score\": 98\n",
    "        ,\"rating\": 80\n",
    "        ,\"weight\": 66\n",
    "        ,\"comments\":\"Starting a Brass Birmingham singles group\"\n",
    "        ,\"pics\":[]\n",
    "    }]"
   ]
  },
  {
   "cell_type": "code",
   "execution_count": null,
   "id": "91de3a6e-cec6-40e8-b215-2d09102753cd",
   "metadata": {},
   "outputs": [],
   "source": [
    "j = rq.put(_experiences_endpoint, headers=headers, json=experiences)\n",
    "j"
   ]
  },
  {
   "cell_type": "code",
   "execution_count": null,
   "id": "e27280c5-d9f8-401e-b514-a42b76d1104b",
   "metadata": {},
   "outputs": [],
   "source": [
    "j = rq.get(_experiences_endpoint, headers=headers)\n",
    "j.json()"
   ]
  },
  {
   "cell_type": "raw",
   "id": "e066a4e6-ae23-47a4-a293-ec766e907e5e",
   "metadata": {},
   "source": [
    "j  = rq.get(_endpoint +f'/{2271048765876461}', headers=headers)\n",
    "j.json()"
   ]
  },
  {
   "cell_type": "markdown",
   "id": "3c5e0720-df06-4b95-887f-dcf658e0b7e8",
   "metadata": {},
   "source": [
    "## Games"
   ]
  },
  {
   "cell_type": "code",
   "execution_count": null,
   "id": "dedbd384-f431-46f8-a52a-5de29f0f91a0",
   "metadata": {},
   "outputs": [],
   "source": [
    "games = [{\n",
    "    \"name\":\"Brass Birmingham\"\n",
    "    ,\"bgg_id\":224517\n",
    "    ,\"bgg_rating\": 8.70\n",
    "    ,\"bgg_weight\": 3.90\n",
    "}\n",
    "    ,{\n",
    "    \"name\":\"Vihnos\"\n",
    "    ,\"bgg_id\":175640\n",
    "    ,\"bgg_rating\": 8.1\n",
    "    ,\"bgg_weight\": 4.02\n",
    "}\n",
    "\n",
    "]"
   ]
  },
  {
   "cell_type": "code",
   "execution_count": null,
   "id": "b458b362-e66c-46de-8a17-ae8b45171690",
   "metadata": {},
   "outputs": [],
   "source": [
    "j = rq.put(_games_endpoint, headers=headers, json=games)\n",
    "j"
   ]
  },
  {
   "cell_type": "code",
   "execution_count": null,
   "id": "b12002a5-b804-4cdd-b8d2-a753df26abc1",
   "metadata": {},
   "outputs": [],
   "source": [
    "j = rq.get(_games_endpoint, headers=headers)\n",
    "j.json()"
   ]
  },
  {
   "cell_type": "markdown",
   "id": "405356d9-4eb1-45e9-8541-fc4b1bfc4378",
   "metadata": {},
   "source": [
    "# Rank Determination: "
   ]
  },
  {
   "cell_type": "code",
   "execution_count": 1,
   "id": "d13c54b1-3355-4fdc-9f80-c579c0a671f7",
   "metadata": {},
   "outputs": [],
   "source": [
    "import math"
   ]
  },
  {
   "cell_type": "code",
   "execution_count": 10,
   "id": "9981632e-427a-402c-8509-97018a394219",
   "metadata": {},
   "outputs": [],
   "source": [
    "K = 500\n",
    "r = 0.75"
   ]
  },
  {
   "cell_type": "code",
   "execution_count": 11,
   "id": "a7d9f033-71aa-4c14-9bc3-672292b751b7",
   "metadata": {},
   "outputs": [],
   "source": [
    "def logGrowth(K, t, r, a=1):\n",
    "    return K / (1 + (a * (math.exp(-r*t))))"
   ]
  },
  {
   "cell_type": "code",
   "execution_count": 12,
   "id": "19356c82-885b-440c-8d53-028818eee83e",
   "metadata": {},
   "outputs": [
    {
     "name": "stdout",
     "output_type": "stream",
     "text": [
      "0: 45\n",
      "1: 87\n",
      "2: 154\n",
      "3: 243\n",
      "4: 333\n",
      "5: 404\n",
      "6: 450\n",
      "7: 475\n",
      "8: 487\n",
      "9: 494\n",
      "10: 497\n",
      "11: 498\n",
      "12: 499\n",
      "13: 499\n",
      "14: 499\n",
      "15: 499\n",
      "16: 499\n",
      "17: 499\n"
     ]
    }
   ],
   "source": [
    "for i in range(0,18):\n",
    "    print(f'{i}: {int(logGrowth(K, i, r, 10))}' )    "
   ]
  },
  {
   "cell_type": "code",
   "execution_count": 15,
   "id": "10527ae5-b53f-4fea-b044-e9e76115e1f9",
   "metadata": {},
   "outputs": [],
   "source": [
    "def recursive_logGrowth(K, t, r, a=1, i=0):\n",
    "    if i > t:\n",
    "        return 0\n",
    "    else:\n",
    "        return K / (1 + (a * (math.exp(-r * i)))) + recursive_logGrowth(K, t, r, a, i + 1)"
   ]
  },
  {
   "cell_type": "code",
   "execution_count": 17,
   "id": "5b1862c4-4eee-4557-af9a-19288c9bc5c1",
   "metadata": {},
   "outputs": [
    {
     "data": {
      "text/plain": [
       "530.9759371417393"
      ]
     },
     "execution_count": 17,
     "metadata": {},
     "output_type": "execute_result"
    }
   ],
   "source": [
    "recursive_logGrowth(500,3,0.75,10,0)"
   ]
  },
  {
   "cell_type": "code",
   "execution_count": null,
   "id": "57661df5-b386-4094-b3e0-c38a0be32a71",
   "metadata": {},
   "outputs": [],
   "source": []
  }
 ],
 "metadata": {
  "kernelspec": {
   "display_name": "Python 3 (ipykernel)",
   "language": "python",
   "name": "python3"
  },
  "language_info": {
   "codemirror_mode": {
    "name": "ipython",
    "version": 3
   },
   "file_extension": ".py",
   "mimetype": "text/x-python",
   "name": "python",
   "nbconvert_exporter": "python",
   "pygments_lexer": "ipython3",
   "version": "3.8.15"
  }
 },
 "nbformat": 4,
 "nbformat_minor": 5
}
